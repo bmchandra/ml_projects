{
 "cells": [
  {
   "cell_type": "code",
   "execution_count": null,
   "metadata": {
    "colab": {},
    "colab_type": "code",
    "id": "ReohNYDtBjDQ"
   },
   "outputs": [],
   "source": [
    "# Project Description : Twitter US Airline Sentiment"
   ]
  },
  {
   "cell_type": "code",
   "execution_count": 1,
   "metadata": {
    "colab": {},
    "colab_type": "code",
    "id": "eQ--JYI5BnDD"
   },
   "outputs": [],
   "source": [
    "# Import necessary libraries.\n",
    "import re, string, unicodedata\n",
    "import pandas as pd\n",
    "import numpy as np\n",
    "import nltk  # Natural language processing tool-kit\n",
    "from nltk.corpus import stopwords, wordnet    # Stopwords, and wordnet corpus\n",
    "from nltk.stem import LancasterStemmer, WordNetLemmatizer"
   ]
  },
  {
   "cell_type": "code",
   "execution_count": 2,
   "metadata": {
    "colab": {
     "base_uri": "https://localhost:8080/",
     "height": 136
    },
    "colab_type": "code",
    "id": "KIg1msIipsoc",
    "outputId": "be402a78-021d-413d-b1ad-f026d0ea0542"
   },
   "outputs": [
    {
     "name": "stdout",
     "output_type": "stream",
     "text": [
      "[nltk_data] Downloading package punkt to /root/nltk_data...\n",
      "[nltk_data]   Unzipping tokenizers/punkt.zip.\n",
      "[nltk_data] Downloading package stopwords to /root/nltk_data...\n",
      "[nltk_data]   Unzipping corpora/stopwords.zip.\n",
      "[nltk_data] Downloading package wordnet to /root/nltk_data...\n",
      "[nltk_data]   Unzipping corpora/wordnet.zip.\n"
     ]
    },
    {
     "data": {
      "text/plain": [
       "True"
      ]
     },
     "execution_count": 2,
     "metadata": {
      "tags": []
     },
     "output_type": "execute_result"
    }
   ],
   "source": [
    "nltk.download('punkt')\n",
    "nltk.download('stopwords')\n",
    "nltk.download('wordnet') "
   ]
  },
  {
   "cell_type": "code",
   "execution_count": 3,
   "metadata": {
    "colab": {
     "base_uri": "https://localhost:8080/",
     "height": 306
    },
    "colab_type": "code",
    "id": "ysygOGbkBuDK",
    "outputId": "789ca73f-5e71-4da9-e984-32bbcd2bfb2a"
   },
   "outputs": [
    {
     "name": "stdout",
     "output_type": "stream",
     "text": [
      "Collecting contractions\n",
      "  Downloading https://files.pythonhosted.org/packages/00/92/a05b76a692ac08d470ae5c23873cf1c9a041532f1ee065e74b374f218306/contractions-0.0.25-py2.py3-none-any.whl\n",
      "Collecting textsearch\n",
      "  Downloading https://files.pythonhosted.org/packages/42/a8/03407021f9555043de5492a2bd7a35c56cc03c2510092b5ec018cae1bbf1/textsearch-0.0.17-py2.py3-none-any.whl\n",
      "Collecting Unidecode\n",
      "\u001b[?25l  Downloading https://files.pythonhosted.org/packages/d0/42/d9edfed04228bacea2d824904cae367ee9efd05e6cce7ceaaedd0b0ad964/Unidecode-1.1.1-py2.py3-none-any.whl (238kB)\n",
      "\u001b[K     |████████████████████████████████| 245kB 4.4MB/s \n",
      "\u001b[?25hCollecting pyahocorasick\n",
      "\u001b[?25l  Downloading https://files.pythonhosted.org/packages/f4/9f/f0d8e8850e12829eea2e778f1c90e3c53a9a799b7f412082a5d21cd19ae1/pyahocorasick-1.4.0.tar.gz (312kB)\n",
      "\u001b[K     |████████████████████████████████| 317kB 20.1MB/s \n",
      "\u001b[?25hBuilding wheels for collected packages: pyahocorasick\n",
      "  Building wheel for pyahocorasick (setup.py) ... \u001b[?25l\u001b[?25hdone\n",
      "  Created wheel for pyahocorasick: filename=pyahocorasick-1.4.0-cp36-cp36m-linux_x86_64.whl size=81697 sha256=684189f986d49687d639055571c1d6bf4272e646265c84d78b51c0c9618edd03\n",
      "  Stored in directory: /root/.cache/pip/wheels/0a/90/61/87a55f5b459792fbb2b7ba6b31721b06ff5cf6bde541b40994\n",
      "Successfully built pyahocorasick\n",
      "Installing collected packages: Unidecode, pyahocorasick, textsearch, contractions\n",
      "Successfully installed Unidecode-1.1.1 contractions-0.0.25 pyahocorasick-1.4.0 textsearch-0.0.17\n"
     ]
    }
   ],
   "source": [
    "!pip install contractions\n",
    "import contractions"
   ]
  },
  {
   "cell_type": "code",
   "execution_count": 4,
   "metadata": {
    "colab": {
     "base_uri": "https://localhost:8080/",
     "height": 157
    },
    "colab_type": "code",
    "id": "YBTpMnwECNl3",
    "outputId": "b4cf22f9-63d7-46d5-c354-7fb5a5fd6a38"
   },
   "outputs": [
    {
     "name": "stdout",
     "output_type": "stream",
     "text": [
      "Go to this URL in a browser: https://accounts.google.com/o/oauth2/auth?client_id=947318989803-6bn6qk8qdgf4n4g3pfee6491hc0brc4i.apps.googleusercontent.com&redirect_uri=urn%3aietf%3awg%3aoauth%3a2.0%3aoob&response_type=code&scope=email%20https%3a%2f%2fwww.googleapis.com%2fauth%2fdocs.test%20https%3a%2f%2fwww.googleapis.com%2fauth%2fdrive%20https%3a%2f%2fwww.googleapis.com%2fauth%2fdrive.photos.readonly%20https%3a%2f%2fwww.googleapis.com%2fauth%2fpeopleapi.readonly\n",
      "\n",
      "Enter your authorization code:\n",
      "··········\n",
      "Mounted at /content/drive/\n",
      "/content/drive/My Drive/Colab Notebooks\n"
     ]
    },
    {
     "data": {
      "application/vnd.google.colaboratory.intrinsic": {
       "type": "string"
      },
      "text/plain": [
       "'/content/drive/My Drive/Colab Notebooks/PGP_AIML_DL/NLP-Project/Tweets.csv'"
      ]
     },
     "execution_count": 4,
     "metadata": {
      "tags": []
     },
     "output_type": "execute_result"
    }
   ],
   "source": [
    "from google.colab import drive\n",
    "drive.mount('/content/drive/')\n",
    "%cd /content/drive/'My Drive/Colab Notebooks'\n",
    "path_of_file =\"/content/drive/My Drive/Colab Notebooks/PGP_AIML_DL/NLP-Project/Tweets.csv\"\n",
    "path_of_file"
   ]
  },
  {
   "cell_type": "markdown",
   "metadata": {
    "colab_type": "text",
    "id": "UnZiN6tiDubJ"
   },
   "source": [
    "**1. Import the libraries,load dataset,print shape of data and data description**"
   ]
  },
  {
   "cell_type": "code",
   "execution_count": 5,
   "metadata": {
    "colab": {
     "base_uri": "https://localhost:8080/",
     "height": 445
    },
    "colab_type": "code",
    "id": "lKkOcGM6DY0b",
    "outputId": "cd9d8b12-9c4f-4961-9f0a-16660d36603f"
   },
   "outputs": [
    {
     "data": {
      "text/html": [
       "<div>\n",
       "<style scoped>\n",
       "    .dataframe tbody tr th:only-of-type {\n",
       "        vertical-align: middle;\n",
       "    }\n",
       "\n",
       "    .dataframe tbody tr th {\n",
       "        vertical-align: top;\n",
       "    }\n",
       "\n",
       "    .dataframe thead th {\n",
       "        text-align: right;\n",
       "    }\n",
       "</style>\n",
       "<table border=\"1\" class=\"dataframe\">\n",
       "  <thead>\n",
       "    <tr style=\"text-align: right;\">\n",
       "      <th></th>\n",
       "      <th>tweet_id</th>\n",
       "      <th>airline_sentiment</th>\n",
       "      <th>airline_sentiment_confidence</th>\n",
       "      <th>negativereason</th>\n",
       "      <th>negativereason_confidence</th>\n",
       "      <th>airline</th>\n",
       "      <th>airline_sentiment_gold</th>\n",
       "      <th>name</th>\n",
       "      <th>negativereason_gold</th>\n",
       "      <th>retweet_count</th>\n",
       "      <th>text</th>\n",
       "      <th>tweet_coord</th>\n",
       "      <th>tweet_created</th>\n",
       "      <th>tweet_location</th>\n",
       "      <th>user_timezone</th>\n",
       "    </tr>\n",
       "  </thead>\n",
       "  <tbody>\n",
       "    <tr>\n",
       "      <th>0</th>\n",
       "      <td>5.703060e+17</td>\n",
       "      <td>neutral</td>\n",
       "      <td>1.0000</td>\n",
       "      <td>NaN</td>\n",
       "      <td>NaN</td>\n",
       "      <td>Virgin America</td>\n",
       "      <td>NaN</td>\n",
       "      <td>cairdin</td>\n",
       "      <td>NaN</td>\n",
       "      <td>0</td>\n",
       "      <td>@VirginAmerica What @dhepburn said.</td>\n",
       "      <td>NaN</td>\n",
       "      <td>24/02/2015 11:35</td>\n",
       "      <td>NaN</td>\n",
       "      <td>Eastern Time (US &amp; Canada)</td>\n",
       "    </tr>\n",
       "    <tr>\n",
       "      <th>1</th>\n",
       "      <td>5.703010e+17</td>\n",
       "      <td>positive</td>\n",
       "      <td>0.3486</td>\n",
       "      <td>NaN</td>\n",
       "      <td>0.0000</td>\n",
       "      <td>Virgin America</td>\n",
       "      <td>NaN</td>\n",
       "      <td>jnardino</td>\n",
       "      <td>NaN</td>\n",
       "      <td>0</td>\n",
       "      <td>@VirginAmerica plus you've added commercials t...</td>\n",
       "      <td>NaN</td>\n",
       "      <td>24/02/2015 11:15</td>\n",
       "      <td>NaN</td>\n",
       "      <td>Pacific Time (US &amp; Canada)</td>\n",
       "    </tr>\n",
       "    <tr>\n",
       "      <th>2</th>\n",
       "      <td>5.703010e+17</td>\n",
       "      <td>neutral</td>\n",
       "      <td>0.6837</td>\n",
       "      <td>NaN</td>\n",
       "      <td>NaN</td>\n",
       "      <td>Virgin America</td>\n",
       "      <td>NaN</td>\n",
       "      <td>yvonnalynn</td>\n",
       "      <td>NaN</td>\n",
       "      <td>0</td>\n",
       "      <td>@VirginAmerica I didn't today... Must mean I n...</td>\n",
       "      <td>NaN</td>\n",
       "      <td>24/02/2015 11:15</td>\n",
       "      <td>Lets Play</td>\n",
       "      <td>Central Time (US &amp; Canada)</td>\n",
       "    </tr>\n",
       "    <tr>\n",
       "      <th>3</th>\n",
       "      <td>5.703010e+17</td>\n",
       "      <td>negative</td>\n",
       "      <td>1.0000</td>\n",
       "      <td>Bad Flight</td>\n",
       "      <td>0.7033</td>\n",
       "      <td>Virgin America</td>\n",
       "      <td>NaN</td>\n",
       "      <td>jnardino</td>\n",
       "      <td>NaN</td>\n",
       "      <td>0</td>\n",
       "      <td>@VirginAmerica it's really aggressive to blast...</td>\n",
       "      <td>NaN</td>\n",
       "      <td>24/02/2015 11:15</td>\n",
       "      <td>NaN</td>\n",
       "      <td>Pacific Time (US &amp; Canada)</td>\n",
       "    </tr>\n",
       "    <tr>\n",
       "      <th>4</th>\n",
       "      <td>5.703010e+17</td>\n",
       "      <td>negative</td>\n",
       "      <td>1.0000</td>\n",
       "      <td>Can't Tell</td>\n",
       "      <td>1.0000</td>\n",
       "      <td>Virgin America</td>\n",
       "      <td>NaN</td>\n",
       "      <td>jnardino</td>\n",
       "      <td>NaN</td>\n",
       "      <td>0</td>\n",
       "      <td>@VirginAmerica and it's a really big bad thing...</td>\n",
       "      <td>NaN</td>\n",
       "      <td>24/02/2015 11:14</td>\n",
       "      <td>NaN</td>\n",
       "      <td>Pacific Time (US &amp; Canada)</td>\n",
       "    </tr>\n",
       "  </tbody>\n",
       "</table>\n",
       "</div>"
      ],
      "text/plain": [
       "       tweet_id airline_sentiment  ...  tweet_location               user_timezone\n",
       "0  5.703060e+17           neutral  ...             NaN  Eastern Time (US & Canada)\n",
       "1  5.703010e+17          positive  ...             NaN  Pacific Time (US & Canada)\n",
       "2  5.703010e+17           neutral  ...       Lets Play  Central Time (US & Canada)\n",
       "3  5.703010e+17          negative  ...             NaN  Pacific Time (US & Canada)\n",
       "4  5.703010e+17          negative  ...             NaN  Pacific Time (US & Canada)\n",
       "\n",
       "[5 rows x 15 columns]"
      ]
     },
     "execution_count": 5,
     "metadata": {
      "tags": []
     },
     "output_type": "execute_result"
    }
   ],
   "source": [
    "# Load dataset.\n",
    "dataset = pd.read_csv('/content/drive/My Drive/Colab Notebooks/PGP_AIML_DL/NLP-Project/Tweets.csv')\n",
    "dataset.head()"
   ]
  },
  {
   "cell_type": "code",
   "execution_count": 6,
   "metadata": {
    "colab": {
     "base_uri": "https://localhost:8080/",
     "height": 34
    },
    "colab_type": "code",
    "id": "Xgm4auzpDl1j",
    "outputId": "acdcf652-8b43-4ff5-df9d-cbdb131c9b39"
   },
   "outputs": [
    {
     "data": {
      "text/plain": [
       "(14640, 15)"
      ]
     },
     "execution_count": 6,
     "metadata": {
      "tags": []
     },
     "output_type": "execute_result"
    }
   ],
   "source": [
    "#shape of data\n",
    "dataset.shape"
   ]
  },
  {
   "cell_type": "code",
   "execution_count": 7,
   "metadata": {
    "colab": {
     "base_uri": "https://localhost:8080/",
     "height": 595
    },
    "colab_type": "code",
    "id": "ynryPpHBD3eR",
    "outputId": "c0b8de72-0554-4c7b-ea02-a5ef6603c7fa"
   },
   "outputs": [
    {
     "name": "stdout",
     "output_type": "stream",
     "text": [
      "<class 'pandas.core.frame.DataFrame'>\n",
      "RangeIndex: 14640 entries, 0 to 14639\n",
      "Data columns (total 15 columns):\n",
      " #   Column                        Non-Null Count  Dtype  \n",
      "---  ------                        --------------  -----  \n",
      " 0   tweet_id                      14640 non-null  float64\n",
      " 1   airline_sentiment             14640 non-null  object \n",
      " 2   airline_sentiment_confidence  14640 non-null  float64\n",
      " 3   negativereason                9178 non-null   object \n",
      " 4   negativereason_confidence     10522 non-null  float64\n",
      " 5   airline                       14640 non-null  object \n",
      " 6   airline_sentiment_gold        40 non-null     object \n",
      " 7   name                          14640 non-null  object \n",
      " 8   negativereason_gold           32 non-null     object \n",
      " 9   retweet_count                 14640 non-null  int64  \n",
      " 10  text                          14640 non-null  object \n",
      " 11  tweet_coord                   1019 non-null   object \n",
      " 12  tweet_created                 14640 non-null  object \n",
      " 13  tweet_location                9907 non-null   object \n",
      " 14  user_timezone                 9820 non-null   object \n",
      "dtypes: float64(3), int64(1), object(11)\n",
      "memory usage: 1.7+ MB\n",
      "None\n",
      "           tweet_id  ...  retweet_count\n",
      "count  1.464000e+04  ...   14640.000000\n",
      "mean   5.692184e+17  ...       0.082650\n",
      "std    7.791092e+14  ...       0.745778\n",
      "min    5.675880e+17  ...       0.000000\n",
      "25%    5.685590e+17  ...       0.000000\n",
      "50%    5.694780e+17  ...       0.000000\n",
      "75%    5.698902e+17  ...       0.000000\n",
      "max    5.703110e+17  ...      44.000000\n",
      "\n",
      "[8 rows x 4 columns]\n"
     ]
    }
   ],
   "source": [
    "print(dataset.info())\n",
    "print(dataset.describe())"
   ]
  },
  {
   "cell_type": "markdown",
   "metadata": {
    "colab_type": "text",
    "id": "QRVsuaoVEJ53"
   },
   "source": [
    "**2. Understanding Data Columns**\n"
   ]
  },
  {
   "cell_type": "markdown",
   "metadata": {
    "colab_type": "text",
    "id": "dmz5PiOVERKz"
   },
   "source": [
    "*2.a.Drop all othe rcolumns except text and airline sentiment*"
   ]
  },
  {
   "cell_type": "code",
   "execution_count": 8,
   "metadata": {
    "colab": {},
    "colab_type": "code",
    "id": "RPlgpHjCEXyz"
   },
   "outputs": [],
   "source": [
    "data = dataset.drop(\n",
    "    ['tweet_id', 'airline_sentiment_confidence', 'negativereason', 'negativereason_confidence', 'airline', 'airline_sentiment_gold', 'name', 'negativereason_gold','retweet_count','tweet_coord','tweet_coord','tweet_created','tweet_location','user_timezone'], \n",
    "    axis=1\n",
    ")\n"
   ]
  },
  {
   "cell_type": "code",
   "execution_count": null,
   "metadata": {
    "colab": {
     "base_uri": "https://localhost:8080/",
     "height": 204
    },
    "colab_type": "code",
    "id": "isXnuHHPFDqO",
    "outputId": "6223c47f-b808-4525-8ef5-c7d2d5d4b8c3"
   },
   "outputs": [
    {
     "data": {
      "text/html": [
       "<div>\n",
       "<style scoped>\n",
       "    .dataframe tbody tr th:only-of-type {\n",
       "        vertical-align: middle;\n",
       "    }\n",
       "\n",
       "    .dataframe tbody tr th {\n",
       "        vertical-align: top;\n",
       "    }\n",
       "\n",
       "    .dataframe thead th {\n",
       "        text-align: right;\n",
       "    }\n",
       "</style>\n",
       "<table border=\"1\" class=\"dataframe\">\n",
       "  <thead>\n",
       "    <tr style=\"text-align: right;\">\n",
       "      <th></th>\n",
       "      <th>airline_sentiment</th>\n",
       "      <th>text</th>\n",
       "    </tr>\n",
       "  </thead>\n",
       "  <tbody>\n",
       "    <tr>\n",
       "      <th>0</th>\n",
       "      <td>neutral</td>\n",
       "      <td>@VirginAmerica What @dhepburn said.</td>\n",
       "    </tr>\n",
       "    <tr>\n",
       "      <th>1</th>\n",
       "      <td>positive</td>\n",
       "      <td>@VirginAmerica plus you've added commercials t...</td>\n",
       "    </tr>\n",
       "    <tr>\n",
       "      <th>2</th>\n",
       "      <td>neutral</td>\n",
       "      <td>@VirginAmerica I didn't today... Must mean I n...</td>\n",
       "    </tr>\n",
       "    <tr>\n",
       "      <th>3</th>\n",
       "      <td>negative</td>\n",
       "      <td>@VirginAmerica it's really aggressive to blast...</td>\n",
       "    </tr>\n",
       "    <tr>\n",
       "      <th>4</th>\n",
       "      <td>negative</td>\n",
       "      <td>@VirginAmerica and it's a really big bad thing...</td>\n",
       "    </tr>\n",
       "  </tbody>\n",
       "</table>\n",
       "</div>"
      ],
      "text/plain": [
       "  airline_sentiment                                               text\n",
       "0           neutral                @VirginAmerica What @dhepburn said.\n",
       "1          positive  @VirginAmerica plus you've added commercials t...\n",
       "2           neutral  @VirginAmerica I didn't today... Must mean I n...\n",
       "3          negative  @VirginAmerica it's really aggressive to blast...\n",
       "4          negative  @VirginAmerica and it's a really big bad thing..."
      ]
     },
     "execution_count": 9,
     "metadata": {
      "tags": []
     },
     "output_type": "execute_result"
    }
   ],
   "source": [
    "data.head()"
   ]
  },
  {
   "cell_type": "code",
   "execution_count": 13,
   "metadata": {
    "colab": {
     "base_uri": "https://localhost:8080/",
     "height": 85
    },
    "colab_type": "code",
    "id": "umdtwJyYZ7x9",
    "outputId": "d30b14dc-d12f-4220-9e51-b90266137d61"
   },
   "outputs": [
    {
     "data": {
      "text/plain": [
       "negative    9178\n",
       "neutral     3099\n",
       "positive    2363\n",
       "Name: airline_sentiment, dtype: int64"
      ]
     },
     "execution_count": 13,
     "metadata": {
      "tags": []
     },
     "output_type": "execute_result"
    }
   ],
   "source": [
    "# check for balance\n",
    "data['airline_sentiment'].value_counts()"
   ]
  },
  {
   "cell_type": "markdown",
   "metadata": {
    "colab_type": "text",
    "id": "KgxXZy3HFIFE"
   },
   "source": [
    "*2.b.Check the shape of data*\n"
   ]
  },
  {
   "cell_type": "code",
   "execution_count": 11,
   "metadata": {
    "colab": {
     "base_uri": "https://localhost:8080/",
     "height": 34
    },
    "colab_type": "code",
    "id": "nHt-3rQZFK-Z",
    "outputId": "ac0a2120-3255-434f-b721-795fa79d60cc"
   },
   "outputs": [
    {
     "name": "stdout",
     "output_type": "stream",
     "text": [
      "(14640, 2)\n"
     ]
    }
   ],
   "source": [
    "print(data.shape)"
   ]
  },
  {
   "cell_type": "markdown",
   "metadata": {
    "colab_type": "text",
    "id": "Krqd8CWjFOcD"
   },
   "source": [
    "2.c.Print first 5 rows of data"
   ]
  },
  {
   "cell_type": "code",
   "execution_count": 14,
   "metadata": {
    "colab": {
     "base_uri": "https://localhost:8080/",
     "height": 204
    },
    "colab_type": "code",
    "id": "4Ph-H_r6FTgu",
    "outputId": "4f0c9d78-c57a-4e8e-c36b-b0770265c409"
   },
   "outputs": [
    {
     "data": {
      "text/html": [
       "<div>\n",
       "<style scoped>\n",
       "    .dataframe tbody tr th:only-of-type {\n",
       "        vertical-align: middle;\n",
       "    }\n",
       "\n",
       "    .dataframe tbody tr th {\n",
       "        vertical-align: top;\n",
       "    }\n",
       "\n",
       "    .dataframe thead th {\n",
       "        text-align: right;\n",
       "    }\n",
       "</style>\n",
       "<table border=\"1\" class=\"dataframe\">\n",
       "  <thead>\n",
       "    <tr style=\"text-align: right;\">\n",
       "      <th></th>\n",
       "      <th>airline_sentiment</th>\n",
       "      <th>text</th>\n",
       "    </tr>\n",
       "  </thead>\n",
       "  <tbody>\n",
       "    <tr>\n",
       "      <th>0</th>\n",
       "      <td>neutral</td>\n",
       "      <td>@VirginAmerica What @dhepburn said.</td>\n",
       "    </tr>\n",
       "    <tr>\n",
       "      <th>1</th>\n",
       "      <td>positive</td>\n",
       "      <td>@VirginAmerica plus you've added commercials t...</td>\n",
       "    </tr>\n",
       "    <tr>\n",
       "      <th>2</th>\n",
       "      <td>neutral</td>\n",
       "      <td>@VirginAmerica I didn't today... Must mean I n...</td>\n",
       "    </tr>\n",
       "    <tr>\n",
       "      <th>3</th>\n",
       "      <td>negative</td>\n",
       "      <td>@VirginAmerica it's really aggressive to blast...</td>\n",
       "    </tr>\n",
       "    <tr>\n",
       "      <th>4</th>\n",
       "      <td>negative</td>\n",
       "      <td>@VirginAmerica and it's a really big bad thing...</td>\n",
       "    </tr>\n",
       "  </tbody>\n",
       "</table>\n",
       "</div>"
      ],
      "text/plain": [
       "  airline_sentiment                                               text\n",
       "0           neutral                @VirginAmerica What @dhepburn said.\n",
       "1          positive  @VirginAmerica plus you've added commercials t...\n",
       "2           neutral  @VirginAmerica I didn't today... Must mean I n...\n",
       "3          negative  @VirginAmerica it's really aggressive to blast...\n",
       "4          negative  @VirginAmerica and it's a really big bad thing..."
      ]
     },
     "execution_count": 14,
     "metadata": {
      "tags": []
     },
     "output_type": "execute_result"
    }
   ],
   "source": [
    "data.head()"
   ]
  },
  {
   "cell_type": "markdown",
   "metadata": {
    "colab_type": "text",
    "id": "EGCq2qEbFYuo"
   },
   "source": [
    "**3 Text pre-processing :Data Preparation**"
   ]
  },
  {
   "cell_type": "markdown",
   "metadata": {
    "colab_type": "text",
    "id": "CF5f-GMoFijv"
   },
   "source": [
    "*3.a.html tag removal*"
   ]
  },
  {
   "cell_type": "code",
   "execution_count": 15,
   "metadata": {
    "colab": {},
    "colab_type": "code",
    "id": "RT28uc37VCs8"
   },
   "outputs": [],
   "source": [
    "#strip html tags\n",
    "from bs4 import BeautifulSoup\n",
    "def strip_html_tags(text):\n",
    "    soup = BeautifulSoup(text, \"html.parser\")\n",
    "    stripped_text = soup.get_text()\n",
    "    return stripped_text"
   ]
  },
  {
   "cell_type": "code",
   "execution_count": 16,
   "metadata": {
    "colab": {
     "base_uri": "https://localhost:8080/",
     "height": 204
    },
    "colab_type": "code",
    "id": "RSqSnhB3VGfZ",
    "outputId": "f8b79704-e75d-4246-e489-2667af4d69bf"
   },
   "outputs": [
    {
     "data": {
      "text/html": [
       "<div>\n",
       "<style scoped>\n",
       "    .dataframe tbody tr th:only-of-type {\n",
       "        vertical-align: middle;\n",
       "    }\n",
       "\n",
       "    .dataframe tbody tr th {\n",
       "        vertical-align: top;\n",
       "    }\n",
       "\n",
       "    .dataframe thead th {\n",
       "        text-align: right;\n",
       "    }\n",
       "</style>\n",
       "<table border=\"1\" class=\"dataframe\">\n",
       "  <thead>\n",
       "    <tr style=\"text-align: right;\">\n",
       "      <th></th>\n",
       "      <th>airline_sentiment</th>\n",
       "      <th>text</th>\n",
       "    </tr>\n",
       "  </thead>\n",
       "  <tbody>\n",
       "    <tr>\n",
       "      <th>0</th>\n",
       "      <td>neutral</td>\n",
       "      <td>@VirginAmerica What @dhepburn said.</td>\n",
       "    </tr>\n",
       "    <tr>\n",
       "      <th>1</th>\n",
       "      <td>positive</td>\n",
       "      <td>@VirginAmerica plus you've added commercials t...</td>\n",
       "    </tr>\n",
       "    <tr>\n",
       "      <th>2</th>\n",
       "      <td>neutral</td>\n",
       "      <td>@VirginAmerica I didn't today... Must mean I n...</td>\n",
       "    </tr>\n",
       "    <tr>\n",
       "      <th>3</th>\n",
       "      <td>negative</td>\n",
       "      <td>@VirginAmerica it's really aggressive to blast...</td>\n",
       "    </tr>\n",
       "    <tr>\n",
       "      <th>4</th>\n",
       "      <td>negative</td>\n",
       "      <td>@VirginAmerica and it's a really big bad thing...</td>\n",
       "    </tr>\n",
       "  </tbody>\n",
       "</table>\n",
       "</div>"
      ],
      "text/plain": [
       "  airline_sentiment                                               text\n",
       "0           neutral                @VirginAmerica What @dhepburn said.\n",
       "1          positive  @VirginAmerica plus you've added commercials t...\n",
       "2           neutral  @VirginAmerica I didn't today... Must mean I n...\n",
       "3          negative  @VirginAmerica it's really aggressive to blast...\n",
       "4          negative  @VirginAmerica and it's a really big bad thing..."
      ]
     },
     "execution_count": 16,
     "metadata": {
      "tags": []
     },
     "output_type": "execute_result"
    }
   ],
   "source": [
    "remove_html_tags=data.copy()\n",
    "remove_html_tags['text']=remove_html_tags['text'].apply(lambda x: strip_html_tags(x))\n",
    "remove_html_tags.head()"
   ]
  },
  {
   "cell_type": "code",
   "execution_count": 18,
   "metadata": {
    "colab": {
     "base_uri": "https://localhost:8080/",
     "height": 204
    },
    "colab_type": "code",
    "id": "3-FFMNYvtlUa",
    "outputId": "45f44139-fa65-459b-fd99-324e2bbb2878"
   },
   "outputs": [
    {
     "data": {
      "text/html": [
       "<div>\n",
       "<style scoped>\n",
       "    .dataframe tbody tr th:only-of-type {\n",
       "        vertical-align: middle;\n",
       "    }\n",
       "\n",
       "    .dataframe tbody tr th {\n",
       "        vertical-align: top;\n",
       "    }\n",
       "\n",
       "    .dataframe thead th {\n",
       "        text-align: right;\n",
       "    }\n",
       "</style>\n",
       "<table border=\"1\" class=\"dataframe\">\n",
       "  <thead>\n",
       "    <tr style=\"text-align: right;\">\n",
       "      <th></th>\n",
       "      <th>airline_sentiment</th>\n",
       "      <th>text</th>\n",
       "    </tr>\n",
       "  </thead>\n",
       "  <tbody>\n",
       "    <tr>\n",
       "      <th>0</th>\n",
       "      <td>neutral</td>\n",
       "      <td>@VirginAmerica What @dhepburn said.</td>\n",
       "    </tr>\n",
       "    <tr>\n",
       "      <th>1</th>\n",
       "      <td>positive</td>\n",
       "      <td>@VirginAmerica plus you have added commercials...</td>\n",
       "    </tr>\n",
       "    <tr>\n",
       "      <th>2</th>\n",
       "      <td>neutral</td>\n",
       "      <td>@VirginAmerica I did not today... Must mean I ...</td>\n",
       "    </tr>\n",
       "    <tr>\n",
       "      <th>3</th>\n",
       "      <td>negative</td>\n",
       "      <td>@VirginAmerica it is really aggressive to blas...</td>\n",
       "    </tr>\n",
       "    <tr>\n",
       "      <th>4</th>\n",
       "      <td>negative</td>\n",
       "      <td>@VirginAmerica and it is a really big bad thin...</td>\n",
       "    </tr>\n",
       "  </tbody>\n",
       "</table>\n",
       "</div>"
      ],
      "text/plain": [
       "  airline_sentiment                                               text\n",
       "0           neutral                @VirginAmerica What @dhepburn said.\n",
       "1          positive  @VirginAmerica plus you have added commercials...\n",
       "2           neutral  @VirginAmerica I did not today... Must mean I ...\n",
       "3          negative  @VirginAmerica it is really aggressive to blas...\n",
       "4          negative  @VirginAmerica and it is a really big bad thin..."
      ]
     },
     "execution_count": 18,
     "metadata": {
      "tags": []
     },
     "output_type": "execute_result"
    }
   ],
   "source": [
    "#replace contractions\n",
    "remove_contractions=remove_html_tags.copy()\n",
    "def replace_contractions(text):\n",
    "    \"\"\"Replace contractions in string of text - didn't to did not\"\"\"\n",
    "    return contractions.fix(text)\n",
    "\n",
    "remove_contractions['text'] = remove_html_tags['text'].apply(lambda x: replace_contractions(x))\n",
    "remove_contractions.head()"
   ]
  },
  {
   "cell_type": "markdown",
   "metadata": {
    "colab_type": "text",
    "id": "TSUTKsHlWQp0"
   },
   "source": [
    "*3.b. Tokenization*"
   ]
  },
  {
   "cell_type": "code",
   "execution_count": 19,
   "metadata": {
    "colab": {},
    "colab_type": "code",
    "id": "GlA4Kl-TWT1u"
   },
   "outputs": [],
   "source": [
    "#tokenization\n",
    "import nltk\n",
    "from nltk.tokenize.toktok import ToktokTokenizer\n",
    "def tokenize(text):\n",
    "  tokenizer=ToktokTokenizer()\n",
    "  tokens=tokenizer.tokenize(text)\n",
    "  return tokens "
   ]
  },
  {
   "cell_type": "code",
   "execution_count": 20,
   "metadata": {
    "colab": {
     "base_uri": "https://localhost:8080/",
     "height": 419
    },
    "colab_type": "code",
    "id": "9mnW5xaSYiaH",
    "outputId": "d38b30f6-614f-434c-a4e9-f98168b74d76"
   },
   "outputs": [
    {
     "data": {
      "text/html": [
       "<div>\n",
       "<style scoped>\n",
       "    .dataframe tbody tr th:only-of-type {\n",
       "        vertical-align: middle;\n",
       "    }\n",
       "\n",
       "    .dataframe tbody tr th {\n",
       "        vertical-align: top;\n",
       "    }\n",
       "\n",
       "    .dataframe thead th {\n",
       "        text-align: right;\n",
       "    }\n",
       "</style>\n",
       "<table border=\"1\" class=\"dataframe\">\n",
       "  <thead>\n",
       "    <tr style=\"text-align: right;\">\n",
       "      <th></th>\n",
       "      <th>airline_sentiment</th>\n",
       "      <th>text</th>\n",
       "    </tr>\n",
       "  </thead>\n",
       "  <tbody>\n",
       "    <tr>\n",
       "      <th>150</th>\n",
       "      <td>negative</td>\n",
       "      <td>[.@VirginAmerica, does, that, mean, you, don, ...</td>\n",
       "    </tr>\n",
       "    <tr>\n",
       "      <th>151</th>\n",
       "      <td>neutral</td>\n",
       "      <td>[@VirginAmerica, is, there, special, assistanc...</td>\n",
       "    </tr>\n",
       "    <tr>\n",
       "      <th>152</th>\n",
       "      <td>positive</td>\n",
       "      <td>[@VirginAmerica, thank, you, for, checking, in...</td>\n",
       "    </tr>\n",
       "    <tr>\n",
       "      <th>153</th>\n",
       "      <td>neutral</td>\n",
       "      <td>[@VirginAmerica, is, your, website, ever, comi...</td>\n",
       "    </tr>\n",
       "    <tr>\n",
       "      <th>154</th>\n",
       "      <td>neutral</td>\n",
       "      <td>[@VirginAmerica, -, Is, Flight, 713, from, Lov...</td>\n",
       "    </tr>\n",
       "    <tr>\n",
       "      <th>...</th>\n",
       "      <td>...</td>\n",
       "      <td>...</td>\n",
       "    </tr>\n",
       "    <tr>\n",
       "      <th>1195</th>\n",
       "      <td>negative</td>\n",
       "      <td>[@united, i, travelled, from, SCL-, IHA, feb, ...</td>\n",
       "    </tr>\n",
       "    <tr>\n",
       "      <th>1196</th>\n",
       "      <td>negative</td>\n",
       "      <td>[@united, you, suck., 9, hour, delay, ?, !]</td>\n",
       "    </tr>\n",
       "    <tr>\n",
       "      <th>1197</th>\n",
       "      <td>negative</td>\n",
       "      <td>[@united, you, are, the, worst, airline, in, t...</td>\n",
       "    </tr>\n",
       "    <tr>\n",
       "      <th>1198</th>\n",
       "      <td>neutral</td>\n",
       "      <td>[@united, @scotthroth, scott, ,, need, a, good...</td>\n",
       "    </tr>\n",
       "    <tr>\n",
       "      <th>1199</th>\n",
       "      <td>negative</td>\n",
       "      <td>[@united, JH, ,, thanks, so, much, for, reachi...</td>\n",
       "    </tr>\n",
       "  </tbody>\n",
       "</table>\n",
       "<p>1050 rows × 2 columns</p>\n",
       "</div>"
      ],
      "text/plain": [
       "     airline_sentiment                                               text\n",
       "150           negative  [.@VirginAmerica, does, that, mean, you, don, ...\n",
       "151            neutral  [@VirginAmerica, is, there, special, assistanc...\n",
       "152           positive  [@VirginAmerica, thank, you, for, checking, in...\n",
       "153            neutral  [@VirginAmerica, is, your, website, ever, comi...\n",
       "154            neutral  [@VirginAmerica, -, Is, Flight, 713, from, Lov...\n",
       "...                ...                                                ...\n",
       "1195          negative  [@united, i, travelled, from, SCL-, IHA, feb, ...\n",
       "1196          negative        [@united, you, suck., 9, hour, delay, ?, !]\n",
       "1197          negative  [@united, you, are, the, worst, airline, in, t...\n",
       "1198           neutral  [@united, @scotthroth, scott, ,, need, a, good...\n",
       "1199          negative  [@united, JH, ,, thanks, so, much, for, reachi...\n",
       "\n",
       "[1050 rows x 2 columns]"
      ]
     },
     "execution_count": 20,
     "metadata": {
      "tags": []
     },
     "output_type": "execute_result"
    }
   ],
   "source": [
    "tokenize_text=remove_html_tags.copy()\n",
    "tokenize_text.head()\n",
    "tokenize_text['text']=remove_html_tags['text'].apply(lambda x: tokenize(x))\n",
    "tokenize_text[150:1200]"
   ]
  },
  {
   "cell_type": "markdown",
   "metadata": {
    "colab_type": "text",
    "id": "xKdam35YdtOh"
   },
   "source": [
    "*3.c.remove the numbers*"
   ]
  },
  {
   "cell_type": "code",
   "execution_count": 21,
   "metadata": {
    "colab": {},
    "colab_type": "code",
    "id": "TdAJbggTdwjR"
   },
   "outputs": [],
   "source": [
    "#remove numbers\n",
    "import re\n",
    "def remove_numbers(text, remove_digits=True):\n",
    "    # pattern = r'[0-9]' if not remove_digits else r'[^0-9]'\n",
    "    text = re.sub(r'\\d+', '', str(text))\n",
    "    return text"
   ]
  },
  {
   "cell_type": "code",
   "execution_count": 22,
   "metadata": {
    "colab": {
     "base_uri": "https://localhost:8080/",
     "height": 419
    },
    "colab_type": "code",
    "id": "91zC3438fmhe",
    "outputId": "f2e5e252-aff1-4377-b952-51905c84b588"
   },
   "outputs": [
    {
     "data": {
      "text/html": [
       "<div>\n",
       "<style scoped>\n",
       "    .dataframe tbody tr th:only-of-type {\n",
       "        vertical-align: middle;\n",
       "    }\n",
       "\n",
       "    .dataframe tbody tr th {\n",
       "        vertical-align: top;\n",
       "    }\n",
       "\n",
       "    .dataframe thead th {\n",
       "        text-align: right;\n",
       "    }\n",
       "</style>\n",
       "<table border=\"1\" class=\"dataframe\">\n",
       "  <thead>\n",
       "    <tr style=\"text-align: right;\">\n",
       "      <th></th>\n",
       "      <th>airline_sentiment</th>\n",
       "      <th>text</th>\n",
       "    </tr>\n",
       "  </thead>\n",
       "  <tbody>\n",
       "    <tr>\n",
       "      <th>150</th>\n",
       "      <td>negative</td>\n",
       "      <td>['.@VirginAmerica', 'does', 'that', 'mean', 'y...</td>\n",
       "    </tr>\n",
       "    <tr>\n",
       "      <th>151</th>\n",
       "      <td>neutral</td>\n",
       "      <td>['@VirginAmerica', 'is', 'there', 'special', '...</td>\n",
       "    </tr>\n",
       "    <tr>\n",
       "      <th>152</th>\n",
       "      <td>positive</td>\n",
       "      <td>['@VirginAmerica', 'thank', 'you', 'for', 'che...</td>\n",
       "    </tr>\n",
       "    <tr>\n",
       "      <th>153</th>\n",
       "      <td>neutral</td>\n",
       "      <td>['@VirginAmerica', 'is', 'your', 'website', 'e...</td>\n",
       "    </tr>\n",
       "    <tr>\n",
       "      <th>154</th>\n",
       "      <td>neutral</td>\n",
       "      <td>['@VirginAmerica', '-', 'Is', 'Flight', '', 'f...</td>\n",
       "    </tr>\n",
       "    <tr>\n",
       "      <th>...</th>\n",
       "      <td>...</td>\n",
       "      <td>...</td>\n",
       "    </tr>\n",
       "    <tr>\n",
       "      <th>1195</th>\n",
       "      <td>negative</td>\n",
       "      <td>['@united', 'i', 'travelled', 'from', 'SCL-', ...</td>\n",
       "    </tr>\n",
       "    <tr>\n",
       "      <th>1196</th>\n",
       "      <td>negative</td>\n",
       "      <td>['@united', 'you', 'suck.', '', 'hour', 'delay...</td>\n",
       "    </tr>\n",
       "    <tr>\n",
       "      <th>1197</th>\n",
       "      <td>negative</td>\n",
       "      <td>['@united', 'you', 'are', 'the', 'worst', 'air...</td>\n",
       "    </tr>\n",
       "    <tr>\n",
       "      <th>1198</th>\n",
       "      <td>neutral</td>\n",
       "      <td>['@united', '@scotthroth', 'scott', ',', 'need...</td>\n",
       "    </tr>\n",
       "    <tr>\n",
       "      <th>1199</th>\n",
       "      <td>negative</td>\n",
       "      <td>['@united', 'JH', ',', 'thanks', 'so', 'much',...</td>\n",
       "    </tr>\n",
       "  </tbody>\n",
       "</table>\n",
       "<p>1050 rows × 2 columns</p>\n",
       "</div>"
      ],
      "text/plain": [
       "     airline_sentiment                                               text\n",
       "150           negative  ['.@VirginAmerica', 'does', 'that', 'mean', 'y...\n",
       "151            neutral  ['@VirginAmerica', 'is', 'there', 'special', '...\n",
       "152           positive  ['@VirginAmerica', 'thank', 'you', 'for', 'che...\n",
       "153            neutral  ['@VirginAmerica', 'is', 'your', 'website', 'e...\n",
       "154            neutral  ['@VirginAmerica', '-', 'Is', 'Flight', '', 'f...\n",
       "...                ...                                                ...\n",
       "1195          negative  ['@united', 'i', 'travelled', 'from', 'SCL-', ...\n",
       "1196          negative  ['@united', 'you', 'suck.', '', 'hour', 'delay...\n",
       "1197          negative  ['@united', 'you', 'are', 'the', 'worst', 'air...\n",
       "1198           neutral  ['@united', '@scotthroth', 'scott', ',', 'need...\n",
       "1199          negative  ['@united', 'JH', ',', 'thanks', 'so', 'much',...\n",
       "\n",
       "[1050 rows x 2 columns]"
      ]
     },
     "execution_count": 22,
     "metadata": {
      "tags": []
     },
     "output_type": "execute_result"
    }
   ],
   "source": [
    "tokenize_text.head()\n",
    "data_after_no_removed=tokenize_text.copy()\n",
    "data_after_no_removed['text']=tokenize_text['text'].apply(lambda x: remove_numbers(x,remove_digits=False))\n",
    "data_after_no_removed[150:1200]\n"
   ]
  },
  {
   "cell_type": "markdown",
   "metadata": {
    "colab_type": "text",
    "id": "Ejx4PCV_krRJ"
   },
   "source": [
    "*3.d.removal of special characters and punctuations*"
   ]
  },
  {
   "cell_type": "code",
   "execution_count": 23,
   "metadata": {
    "colab": {},
    "colab_type": "code",
    "id": "1BvI8RIUk1z7"
   },
   "outputs": [],
   "source": [
    "# remove special characters & punctuations\n",
    "def remove_special_characters(text,remove_punctuations=False):\n",
    "  pattern=r'[^\\w\\s,]' if not remove_punctuations else r'[^\\w\\s,]'\n",
    "  text = re.sub(pattern, '', str(text))\n",
    "  return text"
   ]
  },
  {
   "cell_type": "code",
   "execution_count": 24,
   "metadata": {
    "colab": {
     "base_uri": "https://localhost:8080/",
     "height": 419
    },
    "colab_type": "code",
    "id": "XowlXdbam5QN",
    "outputId": "5813fbe7-bd51-43ff-ffb4-e6150f4624e3"
   },
   "outputs": [
    {
     "data": {
      "text/html": [
       "<div>\n",
       "<style scoped>\n",
       "    .dataframe tbody tr th:only-of-type {\n",
       "        vertical-align: middle;\n",
       "    }\n",
       "\n",
       "    .dataframe tbody tr th {\n",
       "        vertical-align: top;\n",
       "    }\n",
       "\n",
       "    .dataframe thead th {\n",
       "        text-align: right;\n",
       "    }\n",
       "</style>\n",
       "<table border=\"1\" class=\"dataframe\">\n",
       "  <thead>\n",
       "    <tr style=\"text-align: right;\">\n",
       "      <th></th>\n",
       "      <th>airline_sentiment</th>\n",
       "      <th>text</th>\n",
       "    </tr>\n",
       "  </thead>\n",
       "  <tbody>\n",
       "    <tr>\n",
       "      <th>150</th>\n",
       "      <td>negative</td>\n",
       "      <td>VirginAmerica, does, that, mean, you, don, , t...</td>\n",
       "    </tr>\n",
       "    <tr>\n",
       "      <th>151</th>\n",
       "      <td>neutral</td>\n",
       "      <td>VirginAmerica, is, there, special, assistance,...</td>\n",
       "    </tr>\n",
       "    <tr>\n",
       "      <th>152</th>\n",
       "      <td>positive</td>\n",
       "      <td>VirginAmerica, thank, you, for, checking, in, ...</td>\n",
       "    </tr>\n",
       "    <tr>\n",
       "      <th>153</th>\n",
       "      <td>neutral</td>\n",
       "      <td>VirginAmerica, is, your, website, ever, coming...</td>\n",
       "    </tr>\n",
       "    <tr>\n",
       "      <th>154</th>\n",
       "      <td>neutral</td>\n",
       "      <td>VirginAmerica, , Is, Flight, , from, Love, Fie...</td>\n",
       "    </tr>\n",
       "    <tr>\n",
       "      <th>...</th>\n",
       "      <td>...</td>\n",
       "      <td>...</td>\n",
       "    </tr>\n",
       "    <tr>\n",
       "      <th>1195</th>\n",
       "      <td>negative</td>\n",
       "      <td>united, i, travelled, from, SCL, IHA, feb, , t...</td>\n",
       "    </tr>\n",
       "    <tr>\n",
       "      <th>1196</th>\n",
       "      <td>negative</td>\n",
       "      <td>united, you, suck, , hour, delay, ,</td>\n",
       "    </tr>\n",
       "    <tr>\n",
       "      <th>1197</th>\n",
       "      <td>negative</td>\n",
       "      <td>united, you, are, the, worst, airline, in, the...</td>\n",
       "    </tr>\n",
       "    <tr>\n",
       "      <th>1198</th>\n",
       "      <td>neutral</td>\n",
       "      <td>united, scotthroth, scott, ,, need, a, good, b...</td>\n",
       "    </tr>\n",
       "    <tr>\n",
       "      <th>1199</th>\n",
       "      <td>negative</td>\n",
       "      <td>united, JH, ,, thanks, so, much, for, reaching...</td>\n",
       "    </tr>\n",
       "  </tbody>\n",
       "</table>\n",
       "<p>1050 rows × 2 columns</p>\n",
       "</div>"
      ],
      "text/plain": [
       "     airline_sentiment                                               text\n",
       "150           negative  VirginAmerica, does, that, mean, you, don, , t...\n",
       "151            neutral  VirginAmerica, is, there, special, assistance,...\n",
       "152           positive  VirginAmerica, thank, you, for, checking, in, ...\n",
       "153            neutral  VirginAmerica, is, your, website, ever, coming...\n",
       "154            neutral  VirginAmerica, , Is, Flight, , from, Love, Fie...\n",
       "...                ...                                                ...\n",
       "1195          negative  united, i, travelled, from, SCL, IHA, feb, , t...\n",
       "1196          negative               united, you, suck, , hour, delay, , \n",
       "1197          negative  united, you, are, the, worst, airline, in, the...\n",
       "1198           neutral  united, scotthroth, scott, ,, need, a, good, b...\n",
       "1199          negative  united, JH, ,, thanks, so, much, for, reaching...\n",
       "\n",
       "[1050 rows x 2 columns]"
      ]
     },
     "execution_count": 24,
     "metadata": {
      "tags": []
     },
     "output_type": "execute_result"
    }
   ],
   "source": [
    "data_after_spl_characters_removed = data_after_no_removed.copy()\n",
    "data_after_spl_characters_removed['text']=data_after_no_removed['text'].apply(lambda x: remove_special_characters(x, remove_punctuations = False) )\n",
    "data_after_spl_characters_removed[150:1200]"
   ]
  },
  {
   "cell_type": "markdown",
   "metadata": {
    "colab_type": "text",
    "id": "xO2BqGHwoRBy"
   },
   "source": [
    "*3.e.Lower Casing*"
   ]
  },
  {
   "cell_type": "code",
   "execution_count": 25,
   "metadata": {
    "colab": {
     "base_uri": "https://localhost:8080/",
     "height": 419
    },
    "colab_type": "code",
    "id": "sWLZZenfoP34",
    "outputId": "dc2da295-0f66-417a-99a9-3241fc9f924f"
   },
   "outputs": [
    {
     "data": {
      "text/html": [
       "<div>\n",
       "<style scoped>\n",
       "    .dataframe tbody tr th:only-of-type {\n",
       "        vertical-align: middle;\n",
       "    }\n",
       "\n",
       "    .dataframe tbody tr th {\n",
       "        vertical-align: top;\n",
       "    }\n",
       "\n",
       "    .dataframe thead th {\n",
       "        text-align: right;\n",
       "    }\n",
       "</style>\n",
       "<table border=\"1\" class=\"dataframe\">\n",
       "  <thead>\n",
       "    <tr style=\"text-align: right;\">\n",
       "      <th></th>\n",
       "      <th>airline_sentiment</th>\n",
       "      <th>text</th>\n",
       "    </tr>\n",
       "  </thead>\n",
       "  <tbody>\n",
       "    <tr>\n",
       "      <th>150</th>\n",
       "      <td>negative</td>\n",
       "      <td>virginamerica, does, that, mean, you, don, , t...</td>\n",
       "    </tr>\n",
       "    <tr>\n",
       "      <th>151</th>\n",
       "      <td>neutral</td>\n",
       "      <td>virginamerica, is, there, special, assistance,...</td>\n",
       "    </tr>\n",
       "    <tr>\n",
       "      <th>152</th>\n",
       "      <td>positive</td>\n",
       "      <td>virginamerica, thank, you, for, checking, in, ...</td>\n",
       "    </tr>\n",
       "    <tr>\n",
       "      <th>153</th>\n",
       "      <td>neutral</td>\n",
       "      <td>virginamerica, is, your, website, ever, coming...</td>\n",
       "    </tr>\n",
       "    <tr>\n",
       "      <th>154</th>\n",
       "      <td>neutral</td>\n",
       "      <td>virginamerica, , is, flight, , from, love, fie...</td>\n",
       "    </tr>\n",
       "    <tr>\n",
       "      <th>...</th>\n",
       "      <td>...</td>\n",
       "      <td>...</td>\n",
       "    </tr>\n",
       "    <tr>\n",
       "      <th>1195</th>\n",
       "      <td>negative</td>\n",
       "      <td>united, i, travelled, from, scl, iha, feb, , t...</td>\n",
       "    </tr>\n",
       "    <tr>\n",
       "      <th>1196</th>\n",
       "      <td>negative</td>\n",
       "      <td>united, you, suck, , hour, delay, ,</td>\n",
       "    </tr>\n",
       "    <tr>\n",
       "      <th>1197</th>\n",
       "      <td>negative</td>\n",
       "      <td>united, you, are, the, worst, airline, in, the...</td>\n",
       "    </tr>\n",
       "    <tr>\n",
       "      <th>1198</th>\n",
       "      <td>neutral</td>\n",
       "      <td>united, scotthroth, scott, ,, need, a, good, b...</td>\n",
       "    </tr>\n",
       "    <tr>\n",
       "      <th>1199</th>\n",
       "      <td>negative</td>\n",
       "      <td>united, jh, ,, thanks, so, much, for, reaching...</td>\n",
       "    </tr>\n",
       "  </tbody>\n",
       "</table>\n",
       "<p>1050 rows × 2 columns</p>\n",
       "</div>"
      ],
      "text/plain": [
       "     airline_sentiment                                               text\n",
       "150           negative  virginamerica, does, that, mean, you, don, , t...\n",
       "151            neutral  virginamerica, is, there, special, assistance,...\n",
       "152           positive  virginamerica, thank, you, for, checking, in, ...\n",
       "153            neutral  virginamerica, is, your, website, ever, coming...\n",
       "154            neutral  virginamerica, , is, flight, , from, love, fie...\n",
       "...                ...                                                ...\n",
       "1195          negative  united, i, travelled, from, scl, iha, feb, , t...\n",
       "1196          negative               united, you, suck, , hour, delay, , \n",
       "1197          negative  united, you, are, the, worst, airline, in, the...\n",
       "1198           neutral  united, scotthroth, scott, ,, need, a, good, b...\n",
       "1199          negative  united, jh, ,, thanks, so, much, for, reaching...\n",
       "\n",
       "[1050 rows x 2 columns]"
      ]
     },
     "execution_count": 25,
     "metadata": {
      "tags": []
     },
     "output_type": "execute_result"
    }
   ],
   "source": [
    "data_lower = data_after_spl_characters_removed.copy()\n",
    "data_lower.head()\n",
    "data_lower['text'] = data_after_spl_characters_removed[\"text\"].apply(lambda x: x.lower())\n",
    "data_lower[150:1200]"
   ]
  },
  {
   "cell_type": "code",
   "execution_count": 26,
   "metadata": {
    "colab": {
     "base_uri": "https://localhost:8080/",
     "height": 204
    },
    "colab_type": "code",
    "id": "LQLv9Ke84Kf5",
    "outputId": "8cb3e281-a6b9-40e5-9dd8-9dc8c1768d31"
   },
   "outputs": [
    {
     "data": {
      "text/html": [
       "<div>\n",
       "<style scoped>\n",
       "    .dataframe tbody tr th:only-of-type {\n",
       "        vertical-align: middle;\n",
       "    }\n",
       "\n",
       "    .dataframe tbody tr th {\n",
       "        vertical-align: top;\n",
       "    }\n",
       "\n",
       "    .dataframe thead th {\n",
       "        text-align: right;\n",
       "    }\n",
       "</style>\n",
       "<table border=\"1\" class=\"dataframe\">\n",
       "  <thead>\n",
       "    <tr style=\"text-align: right;\">\n",
       "      <th></th>\n",
       "      <th>airline_sentiment</th>\n",
       "      <th>text</th>\n",
       "    </tr>\n",
       "  </thead>\n",
       "  <tbody>\n",
       "    <tr>\n",
       "      <th>0</th>\n",
       "      <td>neutral</td>\n",
       "      <td>virginamerica, what, dhepburn, said,</td>\n",
       "    </tr>\n",
       "    <tr>\n",
       "      <th>1</th>\n",
       "      <td>positive</td>\n",
       "      <td>virginamerica, plus, you, , ve, added, commerc...</td>\n",
       "    </tr>\n",
       "    <tr>\n",
       "      <th>2</th>\n",
       "      <td>neutral</td>\n",
       "      <td>virginamerica, i, didn, , t, today, , must, me...</td>\n",
       "    </tr>\n",
       "    <tr>\n",
       "      <th>3</th>\n",
       "      <td>negative</td>\n",
       "      <td>virginamerica, it, , s, really, aggressive, to...</td>\n",
       "    </tr>\n",
       "    <tr>\n",
       "      <th>4</th>\n",
       "      <td>negative</td>\n",
       "      <td>virginamerica, and, it, , s, a, really, big, b...</td>\n",
       "    </tr>\n",
       "  </tbody>\n",
       "</table>\n",
       "</div>"
      ],
      "text/plain": [
       "  airline_sentiment                                               text\n",
       "0           neutral              virginamerica, what, dhepburn, said, \n",
       "1          positive  virginamerica, plus, you, , ve, added, commerc...\n",
       "2           neutral  virginamerica, i, didn, , t, today, , must, me...\n",
       "3          negative  virginamerica, it, , s, really, aggressive, to...\n",
       "4          negative  virginamerica, and, it, , s, a, really, big, b..."
      ]
     },
     "execution_count": 26,
     "metadata": {
      "tags": []
     },
     "output_type": "execute_result"
    }
   ],
   "source": [
    "data_lower.head()"
   ]
  },
  {
   "cell_type": "markdown",
   "metadata": {
    "colab_type": "text",
    "id": "t9EIdcBsoqiW"
   },
   "source": [
    "*3.f.Lemmatize or Stemming*"
   ]
  },
  {
   "cell_type": "code",
   "execution_count": null,
   "metadata": {
    "colab": {},
    "colab_type": "code",
    "id": "wp_4HWsNpDCP"
   },
   "outputs": [],
   "source": [
    "# does not work\n",
    "# def lemmatize_verbs(words):\n",
    "#     \"\"\"Lemmatize verbs in list of tokenized words\"\"\"\n",
    "#     lemmatizer = WordNetLemmatizer()\n",
    "#     lemmas = []                           # Create empty list to store pre-processed words.\n",
    "#     for word in words:\n",
    "#         lemma = lemmatizer.lemmatize(word,pos='n') # pos = part of speech\n",
    "#         lemmas.append(lemma)              # Append processed words to new list.\n",
    "#     return lemmas"
   ]
  },
  {
   "cell_type": "code",
   "execution_count": 27,
   "metadata": {
    "colab": {},
    "colab_type": "code",
    "id": "OlwRxVQj6MAv"
   },
   "outputs": [],
   "source": [
    "import spacy\n",
    "nlp=spacy.load('en_core_web_sm',parse=True,tag=True,entity=True)\n",
    "def lemmatize_text(text):\n",
    "  text=nlp(text)\n",
    "  text=' '.join(word.lemma_ if word.lemma_!='-PRON-' else word.text for word in text)\n",
    "  return text\n"
   ]
  },
  {
   "cell_type": "code",
   "execution_count": 28,
   "metadata": {
    "colab": {
     "base_uri": "https://localhost:8080/",
     "height": 419
    },
    "colab_type": "code",
    "id": "waxqt-pApJSm",
    "outputId": "76fc70ed-57b4-4c2b-e0c5-db1824197200"
   },
   "outputs": [
    {
     "data": {
      "text/html": [
       "<div>\n",
       "<style scoped>\n",
       "    .dataframe tbody tr th:only-of-type {\n",
       "        vertical-align: middle;\n",
       "    }\n",
       "\n",
       "    .dataframe tbody tr th {\n",
       "        vertical-align: top;\n",
       "    }\n",
       "\n",
       "    .dataframe thead th {\n",
       "        text-align: right;\n",
       "    }\n",
       "</style>\n",
       "<table border=\"1\" class=\"dataframe\">\n",
       "  <thead>\n",
       "    <tr style=\"text-align: right;\">\n",
       "      <th></th>\n",
       "      <th>airline_sentiment</th>\n",
       "      <th>text</th>\n",
       "    </tr>\n",
       "  </thead>\n",
       "  <tbody>\n",
       "    <tr>\n",
       "      <th>150</th>\n",
       "      <td>negative</td>\n",
       "      <td>virginamerica , do , that , mean , you , don ,...</td>\n",
       "    </tr>\n",
       "    <tr>\n",
       "      <th>151</th>\n",
       "      <td>neutral</td>\n",
       "      <td>virginamerica , be , there , special , assista...</td>\n",
       "    </tr>\n",
       "    <tr>\n",
       "      <th>152</th>\n",
       "      <td>positive</td>\n",
       "      <td>virginamerica , thank , you , for , check , in...</td>\n",
       "    </tr>\n",
       "    <tr>\n",
       "      <th>153</th>\n",
       "      <td>neutral</td>\n",
       "      <td>virginamerica , be , your , website , ever , c...</td>\n",
       "    </tr>\n",
       "    <tr>\n",
       "      <th>154</th>\n",
       "      <td>neutral</td>\n",
       "      <td>virginamerica , , be , flight , , from , love ...</td>\n",
       "    </tr>\n",
       "    <tr>\n",
       "      <th>...</th>\n",
       "      <td>...</td>\n",
       "      <td>...</td>\n",
       "    </tr>\n",
       "    <tr>\n",
       "      <th>1195</th>\n",
       "      <td>negative</td>\n",
       "      <td>united , i , travel , from , scl , iha , feb ,...</td>\n",
       "    </tr>\n",
       "    <tr>\n",
       "      <th>1196</th>\n",
       "      <td>negative</td>\n",
       "      <td>united , you , suck , , hour , delay , ,</td>\n",
       "    </tr>\n",
       "    <tr>\n",
       "      <th>1197</th>\n",
       "      <td>negative</td>\n",
       "      <td>united , you , be , the , bad , airline , in ,...</td>\n",
       "    </tr>\n",
       "    <tr>\n",
       "      <th>1198</th>\n",
       "      <td>neutral</td>\n",
       "      <td>united , scotthroth , scott , , , need , a , g...</td>\n",
       "    </tr>\n",
       "    <tr>\n",
       "      <th>1199</th>\n",
       "      <td>negative</td>\n",
       "      <td>united , jh , , , thank , so , much , for , re...</td>\n",
       "    </tr>\n",
       "  </tbody>\n",
       "</table>\n",
       "<p>1050 rows × 2 columns</p>\n",
       "</div>"
      ],
      "text/plain": [
       "     airline_sentiment                                               text\n",
       "150           negative  virginamerica , do , that , mean , you , don ,...\n",
       "151            neutral  virginamerica , be , there , special , assista...\n",
       "152           positive  virginamerica , thank , you , for , check , in...\n",
       "153            neutral  virginamerica , be , your , website , ever , c...\n",
       "154            neutral  virginamerica , , be , flight , , from , love ...\n",
       "...                ...                                                ...\n",
       "1195          negative  united , i , travel , from , scl , iha , feb ,...\n",
       "1196          negative           united , you , suck , , hour , delay , ,\n",
       "1197          negative  united , you , be , the , bad , airline , in ,...\n",
       "1198           neutral  united , scotthroth , scott , , , need , a , g...\n",
       "1199          negative  united , jh , , , thank , so , much , for , re...\n",
       "\n",
       "[1050 rows x 2 columns]"
      ]
     },
     "execution_count": 28,
     "metadata": {
      "tags": []
     },
     "output_type": "execute_result"
    }
   ],
   "source": [
    "lemmatize_data = data_lower.copy()\n",
    "lemmatize_data['text'] = data_lower['text'].apply(lambda x: lemmatize_text(x) )\n",
    "lemmatize_data[150:1200]\n",
    "\n"
   ]
  },
  {
   "cell_type": "code",
   "execution_count": 29,
   "metadata": {
    "colab": {},
    "colab_type": "code",
    "id": "IFgubQ7R89QI"
   },
   "outputs": [],
   "source": [
    "lemmatize_data.to_csv('/content/drive/My Drive/Colab Notebooks/PGP_AIML_DL/NLP-Project/lemmatized_data.csv')\n",
    "# !cp lemmatized_data.csv \"/content/drive/My Drive/Colab Notebooks/PGP_AIML_DL/NLP-Project/\""
   ]
  },
  {
   "cell_type": "markdown",
   "metadata": {
    "colab_type": "text",
    "id": "u2k1LIvaMZ90"
   },
   "source": [
    "*3.g. Join the words in th elist to convert back to text string in the dataframe*"
   ]
  },
  {
   "cell_type": "code",
   "execution_count": 30,
   "metadata": {
    "colab": {},
    "colab_type": "code",
    "id": "0Q6GkMc-LnhJ"
   },
   "outputs": [],
   "source": [
    "def remove_comma(words):\n",
    "  s = words.replace(',', '')\n",
    "  k=' '.join(s)\n",
    "  return s"
   ]
  },
  {
   "cell_type": "code",
   "execution_count": 31,
   "metadata": {
    "colab": {},
    "colab_type": "code",
    "id": "MvRC0pjG-hzw"
   },
   "outputs": [],
   "source": [
    "join_text = lemmatize_data.copy()\n",
    "join_text['text']=lemmatize_data['text'].apply(remove_comma)\n"
   ]
  },
  {
   "cell_type": "markdown",
   "metadata": {
    "colab_type": "text",
    "id": "0RCC1HeYMqtM"
   },
   "source": [
    "*3.h Print first 5 rows of data after pre-processing*\n"
   ]
  },
  {
   "cell_type": "code",
   "execution_count": 32,
   "metadata": {
    "colab": {
     "base_uri": "https://localhost:8080/",
     "height": 204
    },
    "colab_type": "code",
    "id": "C0UO5QB7Mxlv",
    "outputId": "53748498-1dbc-4675-c2b1-69e5b2b55818"
   },
   "outputs": [
    {
     "data": {
      "text/html": [
       "<div>\n",
       "<style scoped>\n",
       "    .dataframe tbody tr th:only-of-type {\n",
       "        vertical-align: middle;\n",
       "    }\n",
       "\n",
       "    .dataframe tbody tr th {\n",
       "        vertical-align: top;\n",
       "    }\n",
       "\n",
       "    .dataframe thead th {\n",
       "        text-align: right;\n",
       "    }\n",
       "</style>\n",
       "<table border=\"1\" class=\"dataframe\">\n",
       "  <thead>\n",
       "    <tr style=\"text-align: right;\">\n",
       "      <th></th>\n",
       "      <th>airline_sentiment</th>\n",
       "      <th>text</th>\n",
       "    </tr>\n",
       "  </thead>\n",
       "  <tbody>\n",
       "    <tr>\n",
       "      <th>0</th>\n",
       "      <td>neutral</td>\n",
       "      <td>virginamerica  what  dhepburn  say</td>\n",
       "    </tr>\n",
       "    <tr>\n",
       "      <th>1</th>\n",
       "      <td>positive</td>\n",
       "      <td>virginamerica  plus  you   ve  add  commercial...</td>\n",
       "    </tr>\n",
       "    <tr>\n",
       "      <th>2</th>\n",
       "      <td>neutral</td>\n",
       "      <td>virginamerica  i  didn   t  today   must  mean...</td>\n",
       "    </tr>\n",
       "    <tr>\n",
       "      <th>3</th>\n",
       "      <td>negative</td>\n",
       "      <td>virginamerica  it   s  really  aggressive  to ...</td>\n",
       "    </tr>\n",
       "    <tr>\n",
       "      <th>4</th>\n",
       "      <td>negative</td>\n",
       "      <td>virginamerica  and  it   s  a  really  big  ba...</td>\n",
       "    </tr>\n",
       "  </tbody>\n",
       "</table>\n",
       "</div>"
      ],
      "text/plain": [
       "  airline_sentiment                                               text\n",
       "0           neutral                virginamerica  what  dhepburn  say \n",
       "1          positive  virginamerica  plus  you   ve  add  commercial...\n",
       "2           neutral  virginamerica  i  didn   t  today   must  mean...\n",
       "3          negative  virginamerica  it   s  really  aggressive  to ...\n",
       "4          negative  virginamerica  and  it   s  a  really  big  ba..."
      ]
     },
     "execution_count": 32,
     "metadata": {
      "tags": []
     },
     "output_type": "execute_result"
    }
   ],
   "source": [
    "join_text.head()"
   ]
  },
  {
   "cell_type": "markdown",
   "metadata": {
    "colab_type": "text",
    "id": "FglMQ-PGNzfm"
   },
   "source": [
    "**4. Vectorization**"
   ]
  },
  {
   "cell_type": "markdown",
   "metadata": {
    "colab_type": "text",
    "id": "sk3wO_BWN4Gn"
   },
   "source": [
    "*4.a. Use CountVectorizer*"
   ]
  },
  {
   "cell_type": "code",
   "execution_count": 33,
   "metadata": {
    "colab": {},
    "colab_type": "code",
    "id": "YMFXaOArpTFC"
   },
   "outputs": [],
   "source": [
    "from sklearn.feature_extraction.text import CountVectorizer\n",
    "cnt_vectorizer=CountVectorizer(max_features=1000) # create transform\n",
    "cnt_data_features= cnt_vectorizer.fit_transform(join_text['text'])\n",
    "cnt_data_features = cnt_data_features.toarray()"
   ]
  },
  {
   "cell_type": "code",
   "execution_count": 34,
   "metadata": {
    "colab": {
     "base_uri": "https://localhost:8080/",
     "height": 34
    },
    "colab_type": "code",
    "id": "Jb_5L-WC8whu",
    "outputId": "fcd297a4-c4de-4687-e901-5a2f8d5d1377"
   },
   "outputs": [
    {
     "data": {
      "text/plain": [
       "(14640, 1000)"
      ]
     },
     "execution_count": 34,
     "metadata": {
      "tags": []
     },
     "output_type": "execute_result"
    }
   ],
   "source": [
    "cnt_data_features.shape\n",
    "# labels=data"
   ]
  },
  {
   "cell_type": "markdown",
   "metadata": {
    "colab_type": "text",
    "id": "9e-pmcJy9pp1"
   },
   "source": [
    "*4.b. Use Tfidf Vectorizer*"
   ]
  },
  {
   "cell_type": "code",
   "execution_count": 35,
   "metadata": {
    "colab": {
     "base_uri": "https://localhost:8080/",
     "height": 34
    },
    "colab_type": "code",
    "id": "Z2tjT6CZ9vX7",
    "outputId": "c5ec0734-ad73-4386-ba9f-8347f5c81258"
   },
   "outputs": [
    {
     "data": {
      "text/plain": [
       "(14640, 1000)"
      ]
     },
     "execution_count": 35,
     "metadata": {
      "tags": []
     },
     "output_type": "execute_result"
    }
   ],
   "source": [
    "\n",
    "from sklearn.feature_extraction.text import TfidfVectorizer\n",
    "\n",
    "tfidf_vectorizer = TfidfVectorizer(max_features=1000)\n",
    "tfidf_data_features = tfidf_vectorizer.fit_transform(join_text['text'])\n",
    "\n",
    "tfidf_data_features = tfidf_data_features.toarray()\n",
    "\n",
    "tfidf_data_features.shape"
   ]
  },
  {
   "cell_type": "code",
   "execution_count": null,
   "metadata": {
    "colab": {
     "base_uri": "https://localhost:8080/",
     "height": 221
    },
    "colab_type": "code",
    "id": "hgfb5dok9AsZ",
    "outputId": "7647e453-adc0-4593-d082-1722e0a03fa2"
   },
   "outputs": [
    {
     "data": {
      "text/plain": [
       "0         neutral\n",
       "1        positive\n",
       "2         neutral\n",
       "3        negative\n",
       "4        negative\n",
       "           ...   \n",
       "14635    positive\n",
       "14636    negative\n",
       "14637     neutral\n",
       "14638    negative\n",
       "14639     neutral\n",
       "Name: airline_sentiment, Length: 14640, dtype: object"
      ]
     },
     "execution_count": 38,
     "metadata": {
      "tags": []
     },
     "output_type": "execute_result"
    }
   ],
   "source": []
  },
  {
   "cell_type": "markdown",
   "metadata": {
    "colab_type": "text",
    "id": "FFoxaDBN-P07"
   },
   "source": [
    "5. Fit and evaluate using both type of vectorization"
   ]
  },
  {
   "cell_type": "markdown",
   "metadata": {
    "colab_type": "text",
    "id": "6Os1ksdJ-X3a"
   },
   "source": [
    "*5.a. Fit & evaluate using count vectorization*"
   ]
  },
  {
   "cell_type": "code",
   "execution_count": 36,
   "metadata": {
    "colab": {
     "base_uri": "https://localhost:8080/",
     "height": 221
    },
    "colab_type": "code",
    "id": "0ZoLiix--b7p",
    "outputId": "c304497c-cf35-4280-bcff-90f7c0ed0375"
   },
   "outputs": [
    {
     "name": "stdout",
     "output_type": "stream",
     "text": [
      "0         neutral\n",
      "1        positive\n",
      "2         neutral\n",
      "3        negative\n",
      "4        negative\n",
      "           ...   \n",
      "14635    positive\n",
      "14636    negative\n",
      "14637     neutral\n",
      "14638    negative\n",
      "14639     neutral\n",
      "Name: airline_sentiment, Length: 14640, dtype: object\n"
     ]
    }
   ],
   "source": [
    "from sklearn.model_selection import train_test_split\n",
    "# get labels\n",
    "labels = join_text['airline_sentiment']\n",
    "print(labels)\n",
    "\n",
    "X_train, X_test, y_train, y_test = train_test_split(cnt_data_features, labels, test_size=0.3, random_state=42)"
   ]
  },
  {
   "cell_type": "code",
   "execution_count": 37,
   "metadata": {
    "colab": {
     "base_uri": "https://localhost:8080/",
     "height": 170
    },
    "colab_type": "code",
    "id": "Ik6J1dyy-2pS",
    "outputId": "8d3b3b0a-daf9-4589-d074-f8754e21fd64"
   },
   "outputs": [
    {
     "name": "stdout",
     "output_type": "stream",
     "text": [
      "RandomForestClassifier(bootstrap=True, ccp_alpha=0.0, class_weight=None,\n",
      "                       criterion='gini', max_depth=None, max_features='auto',\n",
      "                       max_leaf_nodes=None, max_samples=None,\n",
      "                       min_impurity_decrease=0.0, min_impurity_split=None,\n",
      "                       min_samples_leaf=1, min_samples_split=2,\n",
      "                       min_weight_fraction_leaf=0.0, n_estimators=10, n_jobs=4,\n",
      "                       oob_score=False, random_state=None, verbose=0,\n",
      "                       warm_start=False)\n",
      "0.7111338797814206\n"
     ]
    }
   ],
   "source": [
    "# using random forest classifier\n",
    "from sklearn.ensemble import RandomForestClassifier\n",
    "from sklearn.model_selection import cross_val_score\n",
    "\n",
    "cnt_forest = RandomForestClassifier(n_estimators=10, n_jobs=4)\n",
    "\n",
    "cnt_forest = cnt_forest.fit(X_train, y_train)\n",
    "\n",
    "print(cnt_forest)\n",
    "\n",
    "print(np.mean(cross_val_score(cnt_forest, cnt_data_features, labels, cv=10)))"
   ]
  },
  {
   "cell_type": "code",
   "execution_count": 38,
   "metadata": {
    "colab": {
     "base_uri": "https://localhost:8080/",
     "height": 34
    },
    "colab_type": "code",
    "id": "uurWTuj9_Ynb",
    "outputId": "35ee107f-a06f-49cd-cebe-16e74fb01465"
   },
   "outputs": [
    {
     "name": "stdout",
     "output_type": "stream",
     "text": [
      "['positive' 'negative' 'negative' ... 'negative' 'negative' 'negative']\n"
     ]
    }
   ],
   "source": [
    "# Predict the result for test data using the model built above.\n",
    "\n",
    "result = cnt_forest.predict(X_test)\n",
    "print(result)"
   ]
  },
  {
   "cell_type": "code",
   "execution_count": 39,
   "metadata": {
    "colab": {
     "base_uri": "https://localhost:8080/",
     "height": 530
    },
    "colab_type": "code",
    "id": "mAJ9dfV9_guG",
    "outputId": "ea8d7126-7471-417e-ef2d-71114a038d37"
   },
   "outputs": [
    {
     "name": "stdout",
     "output_type": "stream",
     "text": [
      "[[2598  149   67]\n",
      " [ 448  367   69]\n",
      " [ 248  106  340]]\n"
     ]
    },
    {
     "name": "stderr",
     "output_type": "stream",
     "text": [
      "/usr/local/lib/python3.6/dist-packages/statsmodels/tools/_testing.py:19: FutureWarning: pandas.util.testing is deprecated. Use the functions in the public API at pandas.testing instead.\n",
      "  import pandas.util.testing as tm\n"
     ]
    },
    {
     "data": {
      "text/plain": [
       "<matplotlib.axes._subplots.AxesSubplot at 0x7f7a8c4eba20>"
      ]
     },
     "execution_count": 39,
     "metadata": {
      "tags": []
     },
     "output_type": "execute_result"
    },
    {
     "data": {
      "image/png": "[encoded data removed]",
      "text/plain": [
       "<Figure size 720x504 with 2 Axes>"
      ]
     },
     "metadata": {
      "needs_background": "light",
      "tags": []
     },
     "output_type": "display_data"
    }
   ],
   "source": [
    "#  Print and plot Confusion matirx to get an idea of how the distribution of the prediction is, among all the classes.\n",
    "\n",
    "import matplotlib.pyplot as plt\n",
    "import seaborn as sns\n",
    "from sklearn.metrics import confusion_matrix\n",
    "\n",
    "conf_mat = confusion_matrix(y_test, result)\n",
    "\n",
    "print(conf_mat)\n",
    "sentiment=['positive','negative','neutral']\n",
    "df_cm = pd.DataFrame(conf_mat, index = [i for i in sentiment],\n",
    "                  columns = [i for i in sentiment])\n",
    "plt.figure(figsize = (10,7))\n",
    "sns.heatmap(df_cm, annot=True, fmt='g')"
   ]
  },
  {
   "cell_type": "markdown",
   "metadata": {
    "colab_type": "text",
    "id": "yrOJzzyKAnaJ"
   },
   "source": [
    "*5.b. Fit and evaluate using TFIDF Vectorization*"
   ]
  },
  {
   "cell_type": "code",
   "execution_count": 40,
   "metadata": {
    "colab": {
     "base_uri": "https://localhost:8080/",
     "height": 221
    },
    "colab_type": "code",
    "id": "h7V7rLSoAwad",
    "outputId": "f7984791-c025-46b8-8920-ba102213fee7"
   },
   "outputs": [
    {
     "name": "stdout",
     "output_type": "stream",
     "text": [
      "0         neutral\n",
      "1        positive\n",
      "2         neutral\n",
      "3        negative\n",
      "4        negative\n",
      "           ...   \n",
      "14635    positive\n",
      "14636    negative\n",
      "14637     neutral\n",
      "14638    negative\n",
      "14639     neutral\n",
      "Name: airline_sentiment, Length: 14640, dtype: object\n"
     ]
    }
   ],
   "source": [
    "from sklearn.model_selection import train_test_split\n",
    "# get labels basically a copy from the join_text normalization can be avoided.\n",
    "labels = join_text['airline_sentiment']\n",
    "print(labels)\n",
    "# train test split based on tfidf_features\n",
    "X_train, X_test, y_train, y_test = train_test_split(tfidf_data_features, labels, test_size=0.3, random_state=42)"
   ]
  },
  {
   "cell_type": "code",
   "execution_count": 41,
   "metadata": {
    "colab": {
     "base_uri": "https://localhost:8080/",
     "height": 170
    },
    "colab_type": "code",
    "id": "MJHUXYEcBLZc",
    "outputId": "52fdf0da-cbb4-417a-a017-8004c5ee6ecb"
   },
   "outputs": [
    {
     "name": "stdout",
     "output_type": "stream",
     "text": [
      "RandomForestClassifier(bootstrap=True, ccp_alpha=0.0, class_weight=None,\n",
      "                       criterion='gini', max_depth=None, max_features='auto',\n",
      "                       max_leaf_nodes=None, max_samples=None,\n",
      "                       min_impurity_decrease=0.0, min_impurity_split=None,\n",
      "                       min_samples_leaf=1, min_samples_split=2,\n",
      "                       min_weight_fraction_leaf=0.0, n_estimators=10, n_jobs=4,\n",
      "                       oob_score=False, random_state=None, verbose=0,\n",
      "                       warm_start=False)\n",
      "0.7079918032786886\n"
     ]
    }
   ],
   "source": [
    "# use random forest classifier,  for sophistication and good programming practice ,I could wrap this up as a  function and pass tfidf_features, but just copy pasted it from previosu section and changed relevant variables\n",
    "from sklearn.ensemble import RandomForestClassifier\n",
    "from sklearn.model_selection import cross_val_score\n",
    "\n",
    "tfidf_forest = RandomForestClassifier(n_estimators=10, n_jobs=4)\n",
    "\n",
    "tfidf_forest = tfidf_forest.fit(X_train, y_train)\n",
    "\n",
    "print(tfidf_forest)\n",
    "\n",
    "print(np.mean(cross_val_score(tfidf_forest, tfidf_data_features, labels, cv=10)))"
   ]
  },
  {
   "cell_type": "code",
   "execution_count": 42,
   "metadata": {
    "colab": {
     "base_uri": "https://localhost:8080/",
     "height": 34
    },
    "colab_type": "code",
    "id": "dGI4oA8gB6x5",
    "outputId": "df6e7621-057c-4290-9816-dce308a081b6"
   },
   "outputs": [
    {
     "name": "stdout",
     "output_type": "stream",
     "text": [
      "['positive' 'negative' 'negative' ... 'negative' 'negative' 'negative']\n"
     ]
    }
   ],
   "source": [
    "# Predict the result for test data using the model built above.\n",
    "\n",
    "result = tfidf_forest.predict(X_test)\n",
    "print(result)"
   ]
  },
  {
   "cell_type": "code",
   "execution_count": 43,
   "metadata": {
    "colab": {
     "base_uri": "https://localhost:8080/",
     "height": 445
    },
    "colab_type": "code",
    "id": "LYlRJUmMCLD8",
    "outputId": "f1e57b67-132c-444c-d1c3-dbf7377f59c8"
   },
   "outputs": [
    {
     "data": {
      "text/plain": [
       "<matplotlib.axes._subplots.AxesSubplot at 0x7f7a889c45c0>"
      ]
     },
     "execution_count": 43,
     "metadata": {
      "tags": []
     },
     "output_type": "execute_result"
    },
    {
     "data": {
      "image/png": "[encoded data removed]",
      "text/plain": [
       "<Figure size 720x504 with 2 Axes>"
      ]
     },
     "metadata": {
      "needs_background": "light",
      "tags": []
     },
     "output_type": "display_data"
    }
   ],
   "source": [
    "import matplotlib.pyplot as plt\n",
    "import seaborn as sns\n",
    "from sklearn.metrics import confusion_matrix\n",
    "\n",
    "conf_mat = confusion_matrix(y_test, result)\n",
    "\n",
    "sentiment=['positive','negative','neutral']\n",
    "df_cm = pd.DataFrame(conf_mat, index = [i for i in sentiment],\n",
    "                  columns = [i for i in sentiment])\n",
    "plt.figure(figsize = (10,7))\n",
    "sns.heatmap(df_cm, annot=True, fmt='g')"
   ]
  },
  {
   "cell_type": "markdown",
   "metadata": {
    "colab_type": "text",
    "id": "QPlXAvTNCpSa"
   },
   "source": [
    "6. Summarize\n",
    "\n",
    "\n",
    "*   The dataset has reviews in text format and sentiment as text aswell\n",
    "*   Used various pre-processing techniques - formatted the text by removing html tags if any, tokenized to split by commas, removed numbers, removed contractions such as I'm to I am, didn't to did not etcetra, removed special characters and punctuations, converted to lower case for consistency.\n",
    "\n",
    "\n",
    "*   Used Lemmatization for efficiency instead of stemming\n",
    "*   Then joined back to sentecnces by removing commas.\n",
    "\n",
    "\n",
    "*   Did count as well as TFIDF Vectorization. There are obviously more positive sentiments but I would not say severely unbalanced.And the scores were close enough in both methods.And confusion matrix produced close results too.\n",
    "\n",
    "\n",
    "\n",
    "\n",
    "\n",
    "\n"
   ]
  }
 ],
 "metadata": {
  "colab": {
   "collapsed_sections": [],
   "name": "Twitter US Airline Sentiment_Balamurali_Chandran.ipynb",
   "provenance": []
  },
  "kernelspec": {
   "display_name": "Python 3",
   "language": "python",
   "name": "python3"
  },
  "language_info": {
   "codemirror_mode": {
    "name": "ipython",
    "version": 3
   },
   "file_extension": ".py",
   "mimetype": "text/x-python",
   "name": "python",
   "nbconvert_exporter": "python",
   "pygments_lexer": "ipython3",
   "version": "3.7.6"
  }
 },
 "nbformat": 4,
 "nbformat_minor": 1
}

{
 "cells": [
  {
   "cell_type": "code",
   "execution_count": 0,
   "metadata": {
    "colab": {},
    "colab_type": "code",
    "id": "6ZzNrdFEfB5H"
   },
   "outputs": [],
   "source": [
    "# Neural Networks - Bank Churn Prediction"
   ]
  },
  {
   "cell_type": "code",
   "execution_count": 1,
   "metadata": {
    "colab": {
     "base_uri": "https://localhost:8080/",
     "height": 51
    },
    "colab_type": "code",
    "id": "CMepvUtOe3qr",
    "outputId": "8682de8b-ebf9-43fe-8027-db12102e7f18"
   },
   "outputs": [
    {
     "name": "stderr",
     "output_type": "stream",
     "text": [
      "/usr/local/lib/python3.6/dist-packages/statsmodels/tools/_testing.py:19: FutureWarning: pandas.util.testing is deprecated. Use the functions in the public API at pandas.testing instead.\n",
      "  import pandas.util.testing as tm\n"
     ]
    }
   ],
   "source": [
    "import pandas as pd\n",
    "import numpy as np\n",
    "import matplotlib.pyplot as plt\n",
    "%matplotlib inline\n",
    "import seaborn as sns\n",
    "from sklearn import metrics\n",
    "from tensorflow.keras import Sequential\n",
    "from tensorflow.keras.layers import Dense\n",
    "\n",
    "# from pydrive.drive import  GoogleDrive\n",
    "from pydrive.auth import GoogleAuth\n",
    "from google.colab import auth\n",
    "from oauth2client.client import GoogleCredentials"
   ]
  },
  {
   "cell_type": "code",
   "execution_count": 0,
   "metadata": {
    "colab": {},
    "colab_type": "code",
    "id": "C2vEHWN-DnMM"
   },
   "outputs": [],
   "source": [
    "# auth.authenticate_user()\n",
    "# gauth=GoogleAuth()\n",
    "# gauth.credentials = GoogleCredentials.get_application_default()\n",
    "# drive=GoogleDrive(gauth)"
   ]
  },
  {
   "cell_type": "code",
   "execution_count": 0,
   "metadata": {
    "colab": {},
    "colab_type": "code",
    "id": "MEel-Txvtuh_"
   },
   "outputs": [],
   "source": [
    "####  1. Read the dataset"
   ]
  },
  {
   "cell_type": "code",
   "execution_count": 2,
   "metadata": {
    "colab": {
     "base_uri": "https://localhost:8080/",
     "height": 139
    },
    "colab_type": "code",
    "id": "Cw-58b3GE9yQ",
    "outputId": "9d108b7d-ab88-4457-8a13-593c1e2b54c8"
   },
   "outputs": [
    {
     "name": "stdout",
     "output_type": "stream",
     "text": [
      "Go to this URL in a browser: https://accounts.google.com/o/oauth2/auth?client_id=947318989803-6bn6qk8qdgf4n4g3pfee6491hc0brc4i.apps.googleusercontent.com&redirect_uri=urn%3aietf%3awg%3aoauth%3a2.0%3aoob&response_type=code&scope=email%20https%3a%2f%2fwww.googleapis.com%2fauth%2fdocs.test%20https%3a%2f%2fwww.googleapis.com%2fauth%2fdrive%20https%3a%2f%2fwww.googleapis.com%2fauth%2fdrive.photos.readonly%20https%3a%2f%2fwww.googleapis.com%2fauth%2fpeopleapi.readonly\n",
      "\n",
      "Enter your authorization code:\n",
      "··········\n",
      "Mounted at /content/drive/\n",
      "/content/drive/My Drive/Colab Notebooks\n"
     ]
    }
   ],
   "source": [
    "from google.colab import drive\n",
    "drive.mount ('/content/drive/')\n",
    "%cd /content/drive/'My Drive/Colab Notebooks'\n",
    "file='bank.csv'\n",
    "# file.GetContentFile('bank.csv')"
   ]
  },
  {
   "cell_type": "code",
   "execution_count": 135,
   "metadata": {
    "colab": {
     "base_uri": "https://localhost:8080/",
     "height": 204
    },
    "colab_type": "code",
    "id": "qa9mOCEsfPl3",
    "outputId": "39cc82d7-dfb5-4239-ae61-02952012520f"
   },
   "outputs": [
    {
     "data": {
      "text/html": [
       "<div>\n",
       "<style scoped>\n",
       "    .dataframe tbody tr th:only-of-type {\n",
       "        vertical-align: middle;\n",
       "    }\n",
       "\n",
       "    .dataframe tbody tr th {\n",
       "        vertical-align: top;\n",
       "    }\n",
       "\n",
       "    .dataframe thead th {\n",
       "        text-align: right;\n",
       "    }\n",
       "</style>\n",
       "<table border=\"1\" class=\"dataframe\">\n",
       "  <thead>\n",
       "    <tr style=\"text-align: right;\">\n",
       "      <th></th>\n",
       "      <th>RowNumber</th>\n",
       "      <th>CustomerId</th>\n",
       "      <th>Surname</th>\n",
       "      <th>CreditScore</th>\n",
       "      <th>Geography</th>\n",
       "      <th>Gender</th>\n",
       "      <th>Age</th>\n",
       "      <th>Tenure</th>\n",
       "      <th>Balance</th>\n",
       "      <th>NumOfProducts</th>\n",
       "      <th>HasCrCard</th>\n",
       "      <th>IsActiveMember</th>\n",
       "      <th>EstimatedSalary</th>\n",
       "      <th>Exited</th>\n",
       "    </tr>\n",
       "  </thead>\n",
       "  <tbody>\n",
       "    <tr>\n",
       "      <th>0</th>\n",
       "      <td>1</td>\n",
       "      <td>15634602</td>\n",
       "      <td>Hargrave</td>\n",
       "      <td>619</td>\n",
       "      <td>France</td>\n",
       "      <td>Female</td>\n",
       "      <td>42</td>\n",
       "      <td>2</td>\n",
       "      <td>0.00</td>\n",
       "      <td>1</td>\n",
       "      <td>1</td>\n",
       "      <td>1</td>\n",
       "      <td>101348.88</td>\n",
       "      <td>1</td>\n",
       "    </tr>\n",
       "    <tr>\n",
       "      <th>1</th>\n",
       "      <td>2</td>\n",
       "      <td>15647311</td>\n",
       "      <td>Hill</td>\n",
       "      <td>608</td>\n",
       "      <td>Spain</td>\n",
       "      <td>Female</td>\n",
       "      <td>41</td>\n",
       "      <td>1</td>\n",
       "      <td>83807.86</td>\n",
       "      <td>1</td>\n",
       "      <td>0</td>\n",
       "      <td>1</td>\n",
       "      <td>112542.58</td>\n",
       "      <td>0</td>\n",
       "    </tr>\n",
       "    <tr>\n",
       "      <th>2</th>\n",
       "      <td>3</td>\n",
       "      <td>15619304</td>\n",
       "      <td>Onio</td>\n",
       "      <td>502</td>\n",
       "      <td>France</td>\n",
       "      <td>Female</td>\n",
       "      <td>42</td>\n",
       "      <td>8</td>\n",
       "      <td>159660.80</td>\n",
       "      <td>3</td>\n",
       "      <td>1</td>\n",
       "      <td>0</td>\n",
       "      <td>113931.57</td>\n",
       "      <td>1</td>\n",
       "    </tr>\n",
       "    <tr>\n",
       "      <th>3</th>\n",
       "      <td>4</td>\n",
       "      <td>15701354</td>\n",
       "      <td>Boni</td>\n",
       "      <td>699</td>\n",
       "      <td>France</td>\n",
       "      <td>Female</td>\n",
       "      <td>39</td>\n",
       "      <td>1</td>\n",
       "      <td>0.00</td>\n",
       "      <td>2</td>\n",
       "      <td>0</td>\n",
       "      <td>0</td>\n",
       "      <td>93826.63</td>\n",
       "      <td>0</td>\n",
       "    </tr>\n",
       "    <tr>\n",
       "      <th>4</th>\n",
       "      <td>5</td>\n",
       "      <td>15737888</td>\n",
       "      <td>Mitchell</td>\n",
       "      <td>850</td>\n",
       "      <td>Spain</td>\n",
       "      <td>Female</td>\n",
       "      <td>43</td>\n",
       "      <td>2</td>\n",
       "      <td>125510.82</td>\n",
       "      <td>1</td>\n",
       "      <td>1</td>\n",
       "      <td>1</td>\n",
       "      <td>79084.10</td>\n",
       "      <td>0</td>\n",
       "    </tr>\n",
       "  </tbody>\n",
       "</table>\n",
       "</div>"
      ],
      "text/plain": [
       "   RowNumber  CustomerId   Surname  ...  IsActiveMember EstimatedSalary Exited\n",
       "0          1    15634602  Hargrave  ...               1       101348.88      1\n",
       "1          2    15647311      Hill  ...               1       112542.58      0\n",
       "2          3    15619304      Onio  ...               0       113931.57      1\n",
       "3          4    15701354      Boni  ...               0        93826.63      0\n",
       "4          5    15737888  Mitchell  ...               1        79084.10      0\n",
       "\n",
       "[5 rows x 14 columns]"
      ]
     },
     "execution_count": 135,
     "metadata": {
      "tags": []
     },
     "output_type": "execute_result"
    }
   ],
   "source": [
    "\n",
    "dataset=pd.read_csv(file)\n",
    "dataset.head()\n"
   ]
  },
  {
   "cell_type": "code",
   "execution_count": 136,
   "metadata": {
    "colab": {
     "base_uri": "https://localhost:8080/",
     "height": 272
    },
    "colab_type": "code",
    "id": "lsdMHE3oswIH",
    "outputId": "ce0f1cfd-fdd0-4746-9fcf-da42820932a1"
   },
   "outputs": [
    {
     "data": {
      "text/plain": [
       "RowNumber          0\n",
       "CustomerId         0\n",
       "Surname            0\n",
       "CreditScore        0\n",
       "Geography          0\n",
       "Gender             0\n",
       "Age                0\n",
       "Tenure             0\n",
       "Balance            0\n",
       "NumOfProducts      0\n",
       "HasCrCard          0\n",
       "IsActiveMember     0\n",
       "EstimatedSalary    0\n",
       "Exited             0\n",
       "dtype: int64"
      ]
     },
     "execution_count": 136,
     "metadata": {
      "tags": []
     },
     "output_type": "execute_result"
    }
   ],
   "source": [
    "dataset.isnull().sum()"
   ]
  },
  {
   "cell_type": "code",
   "execution_count": 137,
   "metadata": {
    "colab": {
     "base_uri": "https://localhost:8080/",
     "height": 374
    },
    "colab_type": "code",
    "id": "ImGv9amWUdp7",
    "outputId": "548b1d1d-bbee-4f74-8b2f-c8e30efe8ce4"
   },
   "outputs": [
    {
     "name": "stdout",
     "output_type": "stream",
     "text": [
      "<class 'pandas.core.frame.DataFrame'>\n",
      "RangeIndex: 10000 entries, 0 to 9999\n",
      "Data columns (total 14 columns):\n",
      " #   Column           Non-Null Count  Dtype  \n",
      "---  ------           --------------  -----  \n",
      " 0   RowNumber        10000 non-null  int64  \n",
      " 1   CustomerId       10000 non-null  int64  \n",
      " 2   Surname          10000 non-null  object \n",
      " 3   CreditScore      10000 non-null  int64  \n",
      " 4   Geography        10000 non-null  object \n",
      " 5   Gender           10000 non-null  object \n",
      " 6   Age              10000 non-null  int64  \n",
      " 7   Tenure           10000 non-null  int64  \n",
      " 8   Balance          10000 non-null  float64\n",
      " 9   NumOfProducts    10000 non-null  int64  \n",
      " 10  HasCrCard        10000 non-null  int64  \n",
      " 11  IsActiveMember   10000 non-null  int64  \n",
      " 12  EstimatedSalary  10000 non-null  float64\n",
      " 13  Exited           10000 non-null  int64  \n",
      "dtypes: float64(2), int64(9), object(3)\n",
      "memory usage: 1.1+ MB\n"
     ]
    }
   ],
   "source": [
    "dataset.info()"
   ]
  },
  {
   "cell_type": "code",
   "execution_count": 138,
   "metadata": {
    "colab": {
     "base_uri": "https://localhost:8080/",
     "height": 85
    },
    "colab_type": "code",
    "id": "NMMBnFp3viN-",
    "outputId": "960b90c4-7a91-4c26-c71a-61265b80469c"
   },
   "outputs": [
    {
     "name": "stdout",
     "output_type": "stream",
     "text": [
      "France     5014\n",
      "Germany    2509\n",
      "Spain      2477\n",
      "Name: Geography, dtype: int64\n"
     ]
    }
   ],
   "source": [
    "print(dataset.Geography.value_counts())\n"
   ]
  },
  {
   "cell_type": "code",
   "execution_count": 0,
   "metadata": {
    "colab": {},
    "colab_type": "code",
    "id": "8wIn6iqGtn-p"
   },
   "outputs": [],
   "source": [
    "#### 2. Drop the columns which are unique"
   ]
  },
  {
   "cell_type": "code",
   "execution_count": 0,
   "metadata": {
    "colab": {},
    "colab_type": "code",
    "id": "1QAh_kw4vHk9"
   },
   "outputs": [],
   "source": [
    "data=dataset.drop(['RowNumber','CustomerId','Surname'],axis=1)"
   ]
  },
  {
   "cell_type": "code",
   "execution_count": 140,
   "metadata": {
    "colab": {
     "base_uri": "https://localhost:8080/",
     "height": 297
    },
    "colab_type": "code",
    "id": "LSdt5pkcsiIU",
    "outputId": "218fd49b-d32e-4d65-ef0f-c250ec585274"
   },
   "outputs": [
    {
     "data": {
      "text/html": [
       "<div>\n",
       "<style scoped>\n",
       "    .dataframe tbody tr th:only-of-type {\n",
       "        vertical-align: middle;\n",
       "    }\n",
       "\n",
       "    .dataframe tbody tr th {\n",
       "        vertical-align: top;\n",
       "    }\n",
       "\n",
       "    .dataframe thead th {\n",
       "        text-align: right;\n",
       "    }\n",
       "</style>\n",
       "<table border=\"1\" class=\"dataframe\">\n",
       "  <thead>\n",
       "    <tr style=\"text-align: right;\">\n",
       "      <th></th>\n",
       "      <th>CreditScore</th>\n",
       "      <th>Age</th>\n",
       "      <th>Tenure</th>\n",
       "      <th>Balance</th>\n",
       "      <th>NumOfProducts</th>\n",
       "      <th>HasCrCard</th>\n",
       "      <th>IsActiveMember</th>\n",
       "      <th>EstimatedSalary</th>\n",
       "      <th>Exited</th>\n",
       "    </tr>\n",
       "  </thead>\n",
       "  <tbody>\n",
       "    <tr>\n",
       "      <th>count</th>\n",
       "      <td>10000.000000</td>\n",
       "      <td>10000.000000</td>\n",
       "      <td>10000.000000</td>\n",
       "      <td>10000.000000</td>\n",
       "      <td>10000.000000</td>\n",
       "      <td>10000.00000</td>\n",
       "      <td>10000.000000</td>\n",
       "      <td>10000.000000</td>\n",
       "      <td>10000.000000</td>\n",
       "    </tr>\n",
       "    <tr>\n",
       "      <th>mean</th>\n",
       "      <td>650.528800</td>\n",
       "      <td>38.921800</td>\n",
       "      <td>5.012800</td>\n",
       "      <td>76485.889288</td>\n",
       "      <td>1.530200</td>\n",
       "      <td>0.70550</td>\n",
       "      <td>0.515100</td>\n",
       "      <td>100090.239881</td>\n",
       "      <td>0.203700</td>\n",
       "    </tr>\n",
       "    <tr>\n",
       "      <th>std</th>\n",
       "      <td>96.653299</td>\n",
       "      <td>10.487806</td>\n",
       "      <td>2.892174</td>\n",
       "      <td>62397.405202</td>\n",
       "      <td>0.581654</td>\n",
       "      <td>0.45584</td>\n",
       "      <td>0.499797</td>\n",
       "      <td>57510.492818</td>\n",
       "      <td>0.402769</td>\n",
       "    </tr>\n",
       "    <tr>\n",
       "      <th>min</th>\n",
       "      <td>350.000000</td>\n",
       "      <td>18.000000</td>\n",
       "      <td>0.000000</td>\n",
       "      <td>0.000000</td>\n",
       "      <td>1.000000</td>\n",
       "      <td>0.00000</td>\n",
       "      <td>0.000000</td>\n",
       "      <td>11.580000</td>\n",
       "      <td>0.000000</td>\n",
       "    </tr>\n",
       "    <tr>\n",
       "      <th>25%</th>\n",
       "      <td>584.000000</td>\n",
       "      <td>32.000000</td>\n",
       "      <td>3.000000</td>\n",
       "      <td>0.000000</td>\n",
       "      <td>1.000000</td>\n",
       "      <td>0.00000</td>\n",
       "      <td>0.000000</td>\n",
       "      <td>51002.110000</td>\n",
       "      <td>0.000000</td>\n",
       "    </tr>\n",
       "    <tr>\n",
       "      <th>50%</th>\n",
       "      <td>652.000000</td>\n",
       "      <td>37.000000</td>\n",
       "      <td>5.000000</td>\n",
       "      <td>97198.540000</td>\n",
       "      <td>1.000000</td>\n",
       "      <td>1.00000</td>\n",
       "      <td>1.000000</td>\n",
       "      <td>100193.915000</td>\n",
       "      <td>0.000000</td>\n",
       "    </tr>\n",
       "    <tr>\n",
       "      <th>75%</th>\n",
       "      <td>718.000000</td>\n",
       "      <td>44.000000</td>\n",
       "      <td>7.000000</td>\n",
       "      <td>127644.240000</td>\n",
       "      <td>2.000000</td>\n",
       "      <td>1.00000</td>\n",
       "      <td>1.000000</td>\n",
       "      <td>149388.247500</td>\n",
       "      <td>0.000000</td>\n",
       "    </tr>\n",
       "    <tr>\n",
       "      <th>max</th>\n",
       "      <td>850.000000</td>\n",
       "      <td>92.000000</td>\n",
       "      <td>10.000000</td>\n",
       "      <td>250898.090000</td>\n",
       "      <td>4.000000</td>\n",
       "      <td>1.00000</td>\n",
       "      <td>1.000000</td>\n",
       "      <td>199992.480000</td>\n",
       "      <td>1.000000</td>\n",
       "    </tr>\n",
       "  </tbody>\n",
       "</table>\n",
       "</div>"
      ],
      "text/plain": [
       "        CreditScore           Age  ...  EstimatedSalary        Exited\n",
       "count  10000.000000  10000.000000  ...     10000.000000  10000.000000\n",
       "mean     650.528800     38.921800  ...    100090.239881      0.203700\n",
       "std       96.653299     10.487806  ...     57510.492818      0.402769\n",
       "min      350.000000     18.000000  ...        11.580000      0.000000\n",
       "25%      584.000000     32.000000  ...     51002.110000      0.000000\n",
       "50%      652.000000     37.000000  ...    100193.915000      0.000000\n",
       "75%      718.000000     44.000000  ...    149388.247500      0.000000\n",
       "max      850.000000     92.000000  ...    199992.480000      1.000000\n",
       "\n",
       "[8 rows x 9 columns]"
      ]
     },
     "execution_count": 140,
     "metadata": {
      "tags": []
     },
     "output_type": "execute_result"
    }
   ],
   "source": [
    "data.describe()"
   ]
  },
  {
   "cell_type": "code",
   "execution_count": 156,
   "metadata": {
    "colab": {
     "base_uri": "https://localhost:8080/",
     "height": 34
    },
    "colab_type": "code",
    "id": "oPf5gBj6ZoSv",
    "outputId": "4f538001-990a-488a-e417-6fa2295ac0ce"
   },
   "outputs": [
    {
     "data": {
      "text/plain": [
       "(6383, 11)"
      ]
     },
     "execution_count": 156,
     "metadata": {
      "tags": []
     },
     "output_type": "execute_result"
    }
   ],
   "source": [
    "data = data[(data[['Balance']] != 0).all(axis=1)]\n",
    "data.shape"
   ]
  },
  {
   "cell_type": "code",
   "execution_count": 142,
   "metadata": {
    "colab": {
     "base_uri": "https://localhost:8080/",
     "height": 419
    },
    "colab_type": "code",
    "id": "hja31oQXN_zC",
    "outputId": "655273bd-3bf5-48df-b07c-a7b905b7ac25"
   },
   "outputs": [
    {
     "data": {
      "text/html": [
       "<div>\n",
       "<style scoped>\n",
       "    .dataframe tbody tr th:only-of-type {\n",
       "        vertical-align: middle;\n",
       "    }\n",
       "\n",
       "    .dataframe tbody tr th {\n",
       "        vertical-align: top;\n",
       "    }\n",
       "\n",
       "    .dataframe thead th {\n",
       "        text-align: right;\n",
       "    }\n",
       "</style>\n",
       "<table border=\"1\" class=\"dataframe\">\n",
       "  <thead>\n",
       "    <tr style=\"text-align: right;\">\n",
       "      <th></th>\n",
       "      <th>CreditScore</th>\n",
       "      <th>Age</th>\n",
       "      <th>Tenure</th>\n",
       "      <th>Balance</th>\n",
       "      <th>NumOfProducts</th>\n",
       "      <th>HasCrCard</th>\n",
       "      <th>IsActiveMember</th>\n",
       "      <th>EstimatedSalary</th>\n",
       "      <th>Exited</th>\n",
       "      <th>Geography_France</th>\n",
       "      <th>Geography_Germany</th>\n",
       "      <th>Geography_Spain</th>\n",
       "      <th>Gender_Female</th>\n",
       "      <th>Gender_Male</th>\n",
       "    </tr>\n",
       "  </thead>\n",
       "  <tbody>\n",
       "    <tr>\n",
       "      <th>1</th>\n",
       "      <td>608</td>\n",
       "      <td>41</td>\n",
       "      <td>1</td>\n",
       "      <td>83807.86</td>\n",
       "      <td>1</td>\n",
       "      <td>0</td>\n",
       "      <td>1</td>\n",
       "      <td>112542.58</td>\n",
       "      <td>0</td>\n",
       "      <td>0</td>\n",
       "      <td>0</td>\n",
       "      <td>1</td>\n",
       "      <td>1</td>\n",
       "      <td>0</td>\n",
       "    </tr>\n",
       "    <tr>\n",
       "      <th>2</th>\n",
       "      <td>502</td>\n",
       "      <td>42</td>\n",
       "      <td>8</td>\n",
       "      <td>159660.80</td>\n",
       "      <td>3</td>\n",
       "      <td>1</td>\n",
       "      <td>0</td>\n",
       "      <td>113931.57</td>\n",
       "      <td>1</td>\n",
       "      <td>1</td>\n",
       "      <td>0</td>\n",
       "      <td>0</td>\n",
       "      <td>1</td>\n",
       "      <td>0</td>\n",
       "    </tr>\n",
       "    <tr>\n",
       "      <th>4</th>\n",
       "      <td>850</td>\n",
       "      <td>43</td>\n",
       "      <td>2</td>\n",
       "      <td>125510.82</td>\n",
       "      <td>1</td>\n",
       "      <td>1</td>\n",
       "      <td>1</td>\n",
       "      <td>79084.10</td>\n",
       "      <td>0</td>\n",
       "      <td>0</td>\n",
       "      <td>0</td>\n",
       "      <td>1</td>\n",
       "      <td>1</td>\n",
       "      <td>0</td>\n",
       "    </tr>\n",
       "    <tr>\n",
       "      <th>5</th>\n",
       "      <td>645</td>\n",
       "      <td>44</td>\n",
       "      <td>8</td>\n",
       "      <td>113755.78</td>\n",
       "      <td>2</td>\n",
       "      <td>1</td>\n",
       "      <td>0</td>\n",
       "      <td>149756.71</td>\n",
       "      <td>1</td>\n",
       "      <td>0</td>\n",
       "      <td>0</td>\n",
       "      <td>1</td>\n",
       "      <td>0</td>\n",
       "      <td>1</td>\n",
       "    </tr>\n",
       "    <tr>\n",
       "      <th>7</th>\n",
       "      <td>376</td>\n",
       "      <td>29</td>\n",
       "      <td>4</td>\n",
       "      <td>115046.74</td>\n",
       "      <td>4</td>\n",
       "      <td>1</td>\n",
       "      <td>0</td>\n",
       "      <td>119346.88</td>\n",
       "      <td>1</td>\n",
       "      <td>0</td>\n",
       "      <td>1</td>\n",
       "      <td>0</td>\n",
       "      <td>1</td>\n",
       "      <td>0</td>\n",
       "    </tr>\n",
       "    <tr>\n",
       "      <th>...</th>\n",
       "      <td>...</td>\n",
       "      <td>...</td>\n",
       "      <td>...</td>\n",
       "      <td>...</td>\n",
       "      <td>...</td>\n",
       "      <td>...</td>\n",
       "      <td>...</td>\n",
       "      <td>...</td>\n",
       "      <td>...</td>\n",
       "      <td>...</td>\n",
       "      <td>...</td>\n",
       "      <td>...</td>\n",
       "      <td>...</td>\n",
       "      <td>...</td>\n",
       "    </tr>\n",
       "    <tr>\n",
       "      <th>9991</th>\n",
       "      <td>597</td>\n",
       "      <td>53</td>\n",
       "      <td>4</td>\n",
       "      <td>88381.21</td>\n",
       "      <td>1</td>\n",
       "      <td>1</td>\n",
       "      <td>0</td>\n",
       "      <td>69384.71</td>\n",
       "      <td>1</td>\n",
       "      <td>1</td>\n",
       "      <td>0</td>\n",
       "      <td>0</td>\n",
       "      <td>1</td>\n",
       "      <td>0</td>\n",
       "    </tr>\n",
       "    <tr>\n",
       "      <th>9993</th>\n",
       "      <td>644</td>\n",
       "      <td>28</td>\n",
       "      <td>7</td>\n",
       "      <td>155060.41</td>\n",
       "      <td>1</td>\n",
       "      <td>1</td>\n",
       "      <td>0</td>\n",
       "      <td>29179.52</td>\n",
       "      <td>0</td>\n",
       "      <td>1</td>\n",
       "      <td>0</td>\n",
       "      <td>0</td>\n",
       "      <td>0</td>\n",
       "      <td>1</td>\n",
       "    </tr>\n",
       "    <tr>\n",
       "      <th>9996</th>\n",
       "      <td>516</td>\n",
       "      <td>35</td>\n",
       "      <td>10</td>\n",
       "      <td>57369.61</td>\n",
       "      <td>1</td>\n",
       "      <td>1</td>\n",
       "      <td>1</td>\n",
       "      <td>101699.77</td>\n",
       "      <td>0</td>\n",
       "      <td>1</td>\n",
       "      <td>0</td>\n",
       "      <td>0</td>\n",
       "      <td>0</td>\n",
       "      <td>1</td>\n",
       "    </tr>\n",
       "    <tr>\n",
       "      <th>9998</th>\n",
       "      <td>772</td>\n",
       "      <td>42</td>\n",
       "      <td>3</td>\n",
       "      <td>75075.31</td>\n",
       "      <td>2</td>\n",
       "      <td>1</td>\n",
       "      <td>0</td>\n",
       "      <td>92888.52</td>\n",
       "      <td>1</td>\n",
       "      <td>0</td>\n",
       "      <td>1</td>\n",
       "      <td>0</td>\n",
       "      <td>0</td>\n",
       "      <td>1</td>\n",
       "    </tr>\n",
       "    <tr>\n",
       "      <th>9999</th>\n",
       "      <td>792</td>\n",
       "      <td>28</td>\n",
       "      <td>4</td>\n",
       "      <td>130142.79</td>\n",
       "      <td>1</td>\n",
       "      <td>1</td>\n",
       "      <td>0</td>\n",
       "      <td>38190.78</td>\n",
       "      <td>0</td>\n",
       "      <td>1</td>\n",
       "      <td>0</td>\n",
       "      <td>0</td>\n",
       "      <td>1</td>\n",
       "      <td>0</td>\n",
       "    </tr>\n",
       "  </tbody>\n",
       "</table>\n",
       "<p>6383 rows × 14 columns</p>\n",
       "</div>"
      ],
      "text/plain": [
       "      CreditScore  Age  Tenure  ...  Geography_Spain  Gender_Female  Gender_Male\n",
       "1             608   41       1  ...                1              1            0\n",
       "2             502   42       8  ...                0              1            0\n",
       "4             850   43       2  ...                1              1            0\n",
       "5             645   44       8  ...                1              0            1\n",
       "7             376   29       4  ...                0              1            0\n",
       "...           ...  ...     ...  ...              ...            ...          ...\n",
       "9991          597   53       4  ...                0              1            0\n",
       "9993          644   28       7  ...                0              0            1\n",
       "9996          516   35      10  ...                0              0            1\n",
       "9998          772   42       3  ...                0              0            1\n",
       "9999          792   28       4  ...                0              1            0\n",
       "\n",
       "[6383 rows x 14 columns]"
      ]
     },
     "execution_count": 142,
     "metadata": {
      "tags": []
     },
     "output_type": "execute_result"
    }
   ],
   "source": [
    "data.columns\n",
    "final_df=pd.get_dummies(data,columns=['Geography','Gender'])\n",
    "final_df"
   ]
  },
  {
   "cell_type": "code",
   "execution_count": 0,
   "metadata": {
    "colab": {},
    "colab_type": "code",
    "id": "p7z4bZUoPj0E"
   },
   "outputs": [],
   "source": [
    "#### 3. Distinguish feature and target set"
   ]
  },
  {
   "cell_type": "code",
   "execution_count": 143,
   "metadata": {
    "colab": {
     "base_uri": "https://localhost:8080/",
     "height": 561
    },
    "colab_type": "code",
    "id": "YCeS1WVvPsSk",
    "outputId": "c61efef1-3be3-417a-bb49-bb8b604268dc"
   },
   "outputs": [
    {
     "name": "stdout",
     "output_type": "stream",
     "text": [
      "feature set:\n",
      "       CreditScore  Age  Tenure  ...  Geography_Spain  Gender_Female  Gender_Male\n",
      "1             608   41       1  ...                1              1            0\n",
      "2             502   42       8  ...                0              1            0\n",
      "4             850   43       2  ...                1              1            0\n",
      "5             645   44       8  ...                1              0            1\n",
      "7             376   29       4  ...                0              1            0\n",
      "...           ...  ...     ...  ...              ...            ...          ...\n",
      "9991          597   53       4  ...                0              1            0\n",
      "9993          644   28       7  ...                0              0            1\n",
      "9996          516   35      10  ...                0              0            1\n",
      "9998          772   42       3  ...                0              0            1\n",
      "9999          792   28       4  ...                0              1            0\n",
      "\n",
      "[6383 rows x 13 columns]\n",
      "Index(['CreditScore', 'Age', 'Tenure', 'Balance', 'NumOfProducts', 'HasCrCard',\n",
      "       'IsActiveMember', 'EstimatedSalary', 'Geography_France',\n",
      "       'Geography_Germany', 'Geography_Spain', 'Gender_Female', 'Gender_Male'],\n",
      "      dtype='object')\n",
      "target set:\n",
      " 1       0\n",
      "2       1\n",
      "4       0\n",
      "5       1\n",
      "7       1\n",
      "       ..\n",
      "9991    1\n",
      "9993    0\n",
      "9996    0\n",
      "9998    1\n",
      "9999    0\n",
      "Name: Exited, Length: 6383, dtype: int64\n"
     ]
    }
   ],
   "source": [
    "final_df.columns\n",
    "X=final_df.drop(['Exited'],axis=1)\n",
    "print('feature set:\\n',X)\n",
    "print(X.columns)\n",
    "Y=data.Exited\n",
    "print('target set:\\n',Y)\n"
   ]
  },
  {
   "cell_type": "code",
   "execution_count": 144,
   "metadata": {
    "colab": {
     "base_uri": "https://localhost:8080/",
     "height": 282
    },
    "colab_type": "code",
    "id": "Tv2Ed7kmlx2U",
    "outputId": "07cc027b-6534-4285-a15e-835f5f61b302"
   },
   "outputs": [
    {
     "data": {
      "text/plain": [
       "<matplotlib.axes._subplots.AxesSubplot at 0x7f01b05e3898>"
      ]
     },
     "execution_count": 144,
     "metadata": {
      "tags": []
     },
     "output_type": "execute_result"
    },
    {
     "data": {
      "image/png": "[encoded data removed]",
      "text/plain": [
       "<Figure size 432x288 with 1 Axes>"
      ]
     },
     "metadata": {
      "needs_background": "light",
      "tags": []
     },
     "output_type": "display_data"
    }
   ],
   "source": [
    "sns.distplot(X,label='Balance')"
   ]
  },
  {
   "cell_type": "code",
   "execution_count": 0,
   "metadata": {
    "colab": {},
    "colab_type": "code",
    "id": "v6CTCewVTL0q"
   },
   "outputs": [],
   "source": [
    "#### 4. Divide the dataset into train test"
   ]
  },
  {
   "cell_type": "code",
   "execution_count": 0,
   "metadata": {
    "colab": {},
    "colab_type": "code",
    "id": "mexIsTJdTX-T"
   },
   "outputs": [],
   "source": [
    "from sklearn.model_selection import train_test_split\n",
    "from sklearn.metrics import accuracy_score, confusion_matrix, precision_score, recall_score, f1_score, precision_recall_curve\n",
    "from sklearn import preprocessing\n",
    "X_train,X_test,Y_train,Y_test = train_test_split(X,Y,test_size=0.30,random_state=7)\n"
   ]
  },
  {
   "cell_type": "code",
   "execution_count": 0,
   "metadata": {
    "colab": {},
    "colab_type": "code",
    "id": "s1avb9PqVEub"
   },
   "outputs": [],
   "source": [
    "#### 5. Normalize the train and test data"
   ]
  },
  {
   "cell_type": "code",
   "execution_count": 0,
   "metadata": {
    "colab": {},
    "colab_type": "code",
    "id": "_3_v8HmMVJ3j"
   },
   "outputs": [],
   "source": [
    "from sklearn.preprocessing import StandardScaler,MinMaxScaler\n",
    "# #define the scaler\n",
    "scaler=StandardScaler().fit(X_train)\n",
    "# min_max=MinMaxScaler().fit(X_train)\n",
    "#scale the train set\n",
    "x_train=scaler.transform(X_train) #min_max.transform(X_train) #\n",
    "# scale the test set\n",
    "x_test=scaler.transform(X_test) # min_max.transform(X_test) #\n",
    "\n",
    "\n",
    "# print(x_train[0:50])\n",
    "# print(Y_train.head())\n",
    "# print(x_test[0:50])\n",
    "# print(Y_test.head())"
   ]
  },
  {
   "cell_type": "code",
   "execution_count": 0,
   "metadata": {
    "colab": {},
    "colab_type": "code",
    "id": "5j6Cc-_dPqi1"
   },
   "outputs": [],
   "source": [
    "# trying out another scaling\n",
    "# from sklearn.preprocessing import QuantileTransformer\n",
    "# quantile_transformer = QuantileTransformer(\n",
    "#  output_distribution='normal', random_state=0)\n",
    "# x_train = quantile_transformer.fit_transform(X_train)\n",
    "# x_test=quantile_transformer.transform(X_test)\n",
    "# print(x_train)"
   ]
  },
  {
   "cell_type": "code",
   "execution_count": 147,
   "metadata": {
    "colab": {
     "base_uri": "https://localhost:8080/",
     "height": 51
    },
    "colab_type": "code",
    "id": "Qjxe7QrVatp7",
    "outputId": "6d3ebbbb-b579-4a7b-d0d1-983e97464090"
   },
   "outputs": [
    {
     "name": "stdout",
     "output_type": "stream",
     "text": [
      "False\n",
      "False\n"
     ]
    }
   ],
   "source": [
    "print(np.any(np.isnan(x_train)))\n",
    "print(np.any(np.isnan(Y_train)))"
   ]
  },
  {
   "cell_type": "code",
   "execution_count": 0,
   "metadata": {
    "colab": {},
    "colab_type": "code",
    "id": "DxlwnkXtZJx4"
   },
   "outputs": [],
   "source": [
    "#### 6. Initialise and build the model and identify points of improvement and its implementation"
   ]
  },
  {
   "cell_type": "code",
   "execution_count": 206,
   "metadata": {
    "colab": {
     "base_uri": "https://localhost:8080/",
     "height": 1000
    },
    "colab_type": "code",
    "id": "Tx9-9b0pZd41",
    "outputId": "7663f5f3-89cd-4212-f084-4256d10061f8"
   },
   "outputs": [
    {
     "name": "stdout",
     "output_type": "stream",
     "text": [
      "Epoch 1/100\n",
      "447/447 [==============================] - 1s 1ms/step - loss: 0.4839 - accuracy: 0.7874\n",
      "Epoch 2/100\n",
      "447/447 [==============================] - 1s 1ms/step - loss: 0.4208 - accuracy: 0.8290\n",
      "Epoch 3/100\n",
      "447/447 [==============================] - 1s 1ms/step - loss: 0.4039 - accuracy: 0.8328\n",
      "Epoch 4/100\n",
      "447/447 [==============================] - 1s 1ms/step - loss: 0.3955 - accuracy: 0.8350\n",
      "Epoch 5/100\n",
      "447/447 [==============================] - 1s 1ms/step - loss: 0.3905 - accuracy: 0.8391\n",
      "Epoch 6/100\n",
      "447/447 [==============================] - 1s 1ms/step - loss: 0.3839 - accuracy: 0.8433\n",
      "Epoch 7/100\n",
      "447/447 [==============================] - 1s 1ms/step - loss: 0.3817 - accuracy: 0.8413\n",
      "Epoch 8/100\n",
      "447/447 [==============================] - 1s 1ms/step - loss: 0.3804 - accuracy: 0.8433\n",
      "Epoch 9/100\n",
      "447/447 [==============================] - 1s 1ms/step - loss: 0.3757 - accuracy: 0.8447\n",
      "Epoch 10/100\n",
      "447/447 [==============================] - 1s 1ms/step - loss: 0.3724 - accuracy: 0.8460\n",
      "Epoch 11/100\n",
      "447/447 [==============================] - 1s 1ms/step - loss: 0.3683 - accuracy: 0.8476\n",
      "Epoch 12/100\n",
      "447/447 [==============================] - 1s 1ms/step - loss: 0.3651 - accuracy: 0.8491\n",
      "Epoch 13/100\n",
      "447/447 [==============================] - 1s 1ms/step - loss: 0.3615 - accuracy: 0.8516\n",
      "Epoch 14/100\n",
      "447/447 [==============================] - 1s 1ms/step - loss: 0.3584 - accuracy: 0.8518\n",
      "Epoch 15/100\n",
      "447/447 [==============================] - 1s 1ms/step - loss: 0.3573 - accuracy: 0.8521\n",
      "Epoch 16/100\n",
      "447/447 [==============================] - 1s 1ms/step - loss: 0.3539 - accuracy: 0.8536\n",
      "Epoch 17/100\n",
      "447/447 [==============================] - 1s 1ms/step - loss: 0.3515 - accuracy: 0.8547\n",
      "Epoch 18/100\n",
      "447/447 [==============================] - 1s 1ms/step - loss: 0.3498 - accuracy: 0.8523\n",
      "Epoch 19/100\n",
      "447/447 [==============================] - 1s 1ms/step - loss: 0.3452 - accuracy: 0.8581\n",
      "Epoch 20/100\n",
      "447/447 [==============================] - 1s 1ms/step - loss: 0.3431 - accuracy: 0.8574\n",
      "Epoch 21/100\n",
      "447/447 [==============================] - 1s 1ms/step - loss: 0.3407 - accuracy: 0.8577\n",
      "Epoch 22/100\n",
      "447/447 [==============================] - 1s 1ms/step - loss: 0.3377 - accuracy: 0.8601\n",
      "Epoch 23/100\n",
      "447/447 [==============================] - 1s 1ms/step - loss: 0.3364 - accuracy: 0.8588\n",
      "Epoch 24/100\n",
      "447/447 [==============================] - 1s 1ms/step - loss: 0.3326 - accuracy: 0.8599\n",
      "Epoch 25/100\n",
      "447/447 [==============================] - 1s 1ms/step - loss: 0.3307 - accuracy: 0.8612\n",
      "Epoch 26/100\n",
      "447/447 [==============================] - 1s 1ms/step - loss: 0.3283 - accuracy: 0.8606\n",
      "Epoch 27/100\n",
      "447/447 [==============================] - 1s 1ms/step - loss: 0.3259 - accuracy: 0.8650\n",
      "Epoch 28/100\n",
      "447/447 [==============================] - 1s 2ms/step - loss: 0.3261 - accuracy: 0.8632\n",
      "Epoch 29/100\n",
      "447/447 [==============================] - 1s 1ms/step - loss: 0.3215 - accuracy: 0.8653\n",
      "Epoch 30/100\n",
      "447/447 [==============================] - 1s 1ms/step - loss: 0.3193 - accuracy: 0.8664\n",
      "Epoch 31/100\n",
      "447/447 [==============================] - 1s 1ms/step - loss: 0.3188 - accuracy: 0.8624\n",
      "Epoch 32/100\n",
      "447/447 [==============================] - 1s 1ms/step - loss: 0.3157 - accuracy: 0.8668\n",
      "Epoch 33/100\n",
      "447/447 [==============================] - 1s 1ms/step - loss: 0.3139 - accuracy: 0.8720\n",
      "Epoch 34/100\n",
      "447/447 [==============================] - 1s 1ms/step - loss: 0.3131 - accuracy: 0.8695\n",
      "Epoch 35/100\n",
      "447/447 [==============================] - 1s 1ms/step - loss: 0.3118 - accuracy: 0.8662\n",
      "Epoch 36/100\n",
      "447/447 [==============================] - 1s 1ms/step - loss: 0.3059 - accuracy: 0.8697\n",
      "Epoch 37/100\n",
      "447/447 [==============================] - 1s 1ms/step - loss: 0.3050 - accuracy: 0.8711\n",
      "Epoch 38/100\n",
      "447/447 [==============================] - 1s 1ms/step - loss: 0.3045 - accuracy: 0.8749\n",
      "Epoch 39/100\n",
      "447/447 [==============================] - 1s 1ms/step - loss: 0.3018 - accuracy: 0.8709\n",
      "Epoch 40/100\n",
      "447/447 [==============================] - 1s 1ms/step - loss: 0.3018 - accuracy: 0.8724\n",
      "Epoch 41/100\n",
      "447/447 [==============================] - 1s 1ms/step - loss: 0.2996 - accuracy: 0.8724\n",
      "Epoch 42/100\n",
      "447/447 [==============================] - 1s 1ms/step - loss: 0.2974 - accuracy: 0.8726\n",
      "Epoch 43/100\n",
      "447/447 [==============================] - 1s 1ms/step - loss: 0.2942 - accuracy: 0.8780\n",
      "Epoch 44/100\n",
      "447/447 [==============================] - 1s 1ms/step - loss: 0.2917 - accuracy: 0.8718\n",
      "Epoch 45/100\n",
      "447/447 [==============================] - 1s 1ms/step - loss: 0.2925 - accuracy: 0.8767\n",
      "Epoch 46/100\n",
      "447/447 [==============================] - 1s 1ms/step - loss: 0.2906 - accuracy: 0.8758\n",
      "Epoch 47/100\n",
      "447/447 [==============================] - 1s 1ms/step - loss: 0.2881 - accuracy: 0.8724\n",
      "Epoch 48/100\n",
      "447/447 [==============================] - 1s 1ms/step - loss: 0.2875 - accuracy: 0.8724\n",
      "Epoch 49/100\n",
      "447/447 [==============================] - 1s 1ms/step - loss: 0.2833 - accuracy: 0.8785\n",
      "Epoch 50/100\n",
      "447/447 [==============================] - 1s 1ms/step - loss: 0.2810 - accuracy: 0.8816\n",
      "Epoch 51/100\n",
      "447/447 [==============================] - 1s 1ms/step - loss: 0.2800 - accuracy: 0.8841\n",
      "Epoch 52/100\n",
      "447/447 [==============================] - 1s 1ms/step - loss: 0.2775 - accuracy: 0.8838\n",
      "Epoch 53/100\n",
      "447/447 [==============================] - 1s 1ms/step - loss: 0.2771 - accuracy: 0.8821\n",
      "Epoch 54/100\n",
      "447/447 [==============================] - 1s 1ms/step - loss: 0.2719 - accuracy: 0.8832\n",
      "Epoch 55/100\n",
      "447/447 [==============================] - 1s 1ms/step - loss: 0.2733 - accuracy: 0.8834\n",
      "Epoch 56/100\n",
      "447/447 [==============================] - 1s 1ms/step - loss: 0.2724 - accuracy: 0.8836\n",
      "Epoch 57/100\n",
      "447/447 [==============================] - 1s 1ms/step - loss: 0.2687 - accuracy: 0.8832\n",
      "Epoch 58/100\n",
      "447/447 [==============================] - 1s 1ms/step - loss: 0.2678 - accuracy: 0.8856\n",
      "Epoch 59/100\n",
      "447/447 [==============================] - 1s 1ms/step - loss: 0.2643 - accuracy: 0.8881\n",
      "Epoch 60/100\n",
      "447/447 [==============================] - 1s 1ms/step - loss: 0.2629 - accuracy: 0.8890\n",
      "Epoch 61/100\n",
      "447/447 [==============================] - 1s 1ms/step - loss: 0.2607 - accuracy: 0.8838\n",
      "Epoch 62/100\n",
      "447/447 [==============================] - 1s 1ms/step - loss: 0.2601 - accuracy: 0.8870\n",
      "Epoch 63/100\n",
      "447/447 [==============================] - 1s 1ms/step - loss: 0.2568 - accuracy: 0.8876\n",
      "Epoch 64/100\n",
      "447/447 [==============================] - 1s 1ms/step - loss: 0.2579 - accuracy: 0.8901\n",
      "Epoch 65/100\n",
      "447/447 [==============================] - 1s 1ms/step - loss: 0.2547 - accuracy: 0.8928\n",
      "Epoch 66/100\n",
      "447/447 [==============================] - 1s 1ms/step - loss: 0.2533 - accuracy: 0.8950\n",
      "Epoch 67/100\n",
      "447/447 [==============================] - 1s 1ms/step - loss: 0.2501 - accuracy: 0.8957\n",
      "Epoch 68/100\n",
      "447/447 [==============================] - 1s 1ms/step - loss: 0.2478 - accuracy: 0.8959\n",
      "Epoch 69/100\n",
      "447/447 [==============================] - 1s 1ms/step - loss: 0.2477 - accuracy: 0.8957\n",
      "Epoch 70/100\n",
      "447/447 [==============================] - 1s 1ms/step - loss: 0.2450 - accuracy: 0.8982\n",
      "Epoch 71/100\n",
      "447/447 [==============================] - 1s 1ms/step - loss: 0.2443 - accuracy: 0.8991\n",
      "Epoch 72/100\n",
      "447/447 [==============================] - 1s 1ms/step - loss: 0.2427 - accuracy: 0.8912\n",
      "Epoch 73/100\n",
      "447/447 [==============================] - 1s 1ms/step - loss: 0.2418 - accuracy: 0.8984\n",
      "Epoch 74/100\n",
      "447/447 [==============================] - 1s 1ms/step - loss: 0.2395 - accuracy: 0.8988\n",
      "Epoch 75/100\n",
      "447/447 [==============================] - 1s 1ms/step - loss: 0.2367 - accuracy: 0.8997\n",
      "Epoch 76/100\n",
      "447/447 [==============================] - 1s 1ms/step - loss: 0.2369 - accuracy: 0.8964\n",
      "Epoch 77/100\n",
      "447/447 [==============================] - 1s 1ms/step - loss: 0.2349 - accuracy: 0.8979\n",
      "Epoch 78/100\n",
      "447/447 [==============================] - 1s 1ms/step - loss: 0.2294 - accuracy: 0.9033\n",
      "Epoch 79/100\n",
      "447/447 [==============================] - 1s 1ms/step - loss: 0.2294 - accuracy: 0.9049\n",
      "Epoch 80/100\n",
      "447/447 [==============================] - 1s 1ms/step - loss: 0.2268 - accuracy: 0.9035\n",
      "Epoch 81/100\n",
      "447/447 [==============================] - 1s 1ms/step - loss: 0.2257 - accuracy: 0.9038\n",
      "Epoch 82/100\n",
      "447/447 [==============================] - 1s 1ms/step - loss: 0.2270 - accuracy: 0.9058\n",
      "Epoch 83/100\n",
      "447/447 [==============================] - 1s 1ms/step - loss: 0.2236 - accuracy: 0.9031\n",
      "Epoch 84/100\n",
      "447/447 [==============================] - 1s 1ms/step - loss: 0.2217 - accuracy: 0.9071\n",
      "Epoch 85/100\n",
      "447/447 [==============================] - 1s 1ms/step - loss: 0.2192 - accuracy: 0.9103\n",
      "Epoch 86/100\n",
      "447/447 [==============================] - 1s 1ms/step - loss: 0.2210 - accuracy: 0.9056\n",
      "Epoch 87/100\n",
      "447/447 [==============================] - 1s 1ms/step - loss: 0.2198 - accuracy: 0.9096\n",
      "Epoch 88/100\n",
      "447/447 [==============================] - 1s 1ms/step - loss: 0.2140 - accuracy: 0.9100\n",
      "Epoch 89/100\n",
      "447/447 [==============================] - 1s 1ms/step - loss: 0.2126 - accuracy: 0.9118\n",
      "Epoch 90/100\n",
      "447/447 [==============================] - 1s 1ms/step - loss: 0.2134 - accuracy: 0.9058\n",
      "Epoch 91/100\n",
      "447/447 [==============================] - 1s 1ms/step - loss: 0.2102 - accuracy: 0.9103\n",
      "Epoch 92/100\n",
      "447/447 [==============================] - 1s 1ms/step - loss: 0.2100 - accuracy: 0.9120\n",
      "Epoch 93/100\n",
      "447/447 [==============================] - 1s 1ms/step - loss: 0.2072 - accuracy: 0.9111\n",
      "Epoch 94/100\n",
      "447/447 [==============================] - 1s 1ms/step - loss: 0.2064 - accuracy: 0.9125\n",
      "Epoch 95/100\n",
      "447/447 [==============================] - 1s 1ms/step - loss: 0.2042 - accuracy: 0.9172\n",
      "Epoch 96/100\n",
      "447/447 [==============================] - 1s 1ms/step - loss: 0.1992 - accuracy: 0.9170\n",
      "Epoch 97/100\n",
      "447/447 [==============================] - 1s 1ms/step - loss: 0.2039 - accuracy: 0.9145\n",
      "Epoch 98/100\n",
      "447/447 [==============================] - 1s 1ms/step - loss: 0.2017 - accuracy: 0.9138\n",
      "Epoch 99/100\n",
      "447/447 [==============================] - 1s 1ms/step - loss: 0.2014 - accuracy: 0.9096\n",
      "Epoch 100/100\n",
      "447/447 [==============================] - 1s 1ms/step - loss: 0.1959 - accuracy: 0.9197\n"
     ]
    },
    {
     "data": {
      "text/plain": [
       "<tensorflow.python.keras.callbacks.History at 0x7f01a7db40f0>"
      ]
     },
     "execution_count": 206,
     "metadata": {
      "tags": []
     },
     "output_type": "execute_result"
    }
   ],
   "source": [
    "from tensorflow.keras import optimizers\n",
    "from keras.regularizers import l2\n",
    "#initialise the constructor\n",
    "model=Sequential()\n",
    "# add the first layer\n",
    "model.add(Dense(60,input_shape=(13,),activation='relu',kernel_initializer='uniform'))#,kernel_regularizer=l2(0.01), bias_regularizer=l2(0.01)))\n",
    "# add hidden layer\n",
    "model.add(Dense(32,activation='relu'))#,kernel_initializer='normal'))\n",
    "# model.add(Dense(16,activation='relu'))#,kernel_initializer='normal'))\n",
    "# model.add(Dense(8,activation='relu'))#,kernel_initializer='normal'))\n",
    "# model.add(Dense(2,activation='relu',kernel_initializer='uniform'))\n",
    "# add output layer\n",
    "model.add(Dense(1,activation='sigmoid')) # binary classification 0 or 1 for \"Exited\" class\n",
    "\n",
    "\n",
    "\n",
    "lr_schedule = optimizers.schedules.InverseTimeDecay(\n",
    "  0.00001,\n",
    "  decay_steps=10*1000,\n",
    "  decay_rate=2,\n",
    "  staircase=False)\n",
    "\n",
    "\n",
    "adam=optimizers.Adam(learning_rate=0.00001)#, beta_1=0.0, beta_2=0.999, epsilon=1e-07, amsgrad=True)\n",
    "sgd=optimizers.SGD(learning_rate=0.0001, momentum=0.0, nesterov=True, name='SGD')\n",
    "\n",
    "model.compile(loss=\"binary_crossentropy\",optimizer='adam',metrics=['accuracy'])\n",
    "model.fit(x_train,Y_train,epochs=100,batch_size=10,verbose=1)"
   ]
  },
  {
   "cell_type": "code",
   "execution_count": 0,
   "metadata": {
    "colab": {},
    "colab_type": "code",
    "id": "smjfzG5AJ2OF"
   },
   "outputs": [],
   "source": [
    "## areas of improvement"
   ]
  },
  {
   "cell_type": "markdown",
   "metadata": {
    "colab_type": "text",
    "id": "7twO21ueJ5Lj"
   },
   "source": [
    "initially using softmax the loss get changed to nan after certain iterations. Tried with lot of options from scaling, and differnt hyperparamater tuning without any success.Accuracy in that instance was 79%\n",
    "Then I reduced the layers and used sigmoid function inside \"ADAM\" optimizer and got a loss value as well as good accuracy of 92%.\n",
    "\n",
    "\n"
   ]
  },
  {
   "cell_type": "code",
   "execution_count": 0,
   "metadata": {
    "colab": {},
    "colab_type": "code",
    "id": "zhYFhGTAue1O"
   },
   "outputs": [],
   "source": [
    "#### 7. Predict the results using a threshold of 0.5"
   ]
  },
  {
   "cell_type": "code",
   "execution_count": 207,
   "metadata": {
    "colab": {
     "base_uri": "https://localhost:8080/",
     "height": 578
    },
    "colab_type": "code",
    "id": "1Fdsp3xi1bb7",
    "outputId": "c0a650cb-3d1a-4595-867a-e5811f1590bd"
   },
   "outputs": [
    {
     "name": "stdout",
     "output_type": "stream",
     "text": [
      "predict: [[0.58296883]\n",
      " [0.69206727]\n",
      " [0.1801402 ]\n",
      " ...\n",
      " [0.00907443]\n",
      " [0.01408641]\n",
      " [0.00933416]]\n",
      "Y test: 6850    0\n",
      "6250    0\n",
      "2597    0\n",
      "6437    0\n",
      "3841    1\n",
      "       ..\n",
      "7954    0\n",
      "7116    1\n",
      "9156    1\n",
      "5091    0\n",
      "2959    0\n",
      "Name: Exited, Length: 1915, dtype: int64\n",
      "shape of predicted: (1915, 1)\n",
      "reshaped: [0.58296883 0.69206727 0.1801402  ... 0.00907443 0.01408641 0.00933416]\n",
      "[0 0 0 ... 1 0 0]\n"
     ]
    },
    {
     "data": {
      "text/html": [
       "<div>\n",
       "<style scoped>\n",
       "    .dataframe tbody tr th:only-of-type {\n",
       "        vertical-align: middle;\n",
       "    }\n",
       "\n",
       "    .dataframe tbody tr th {\n",
       "        vertical-align: top;\n",
       "    }\n",
       "\n",
       "    .dataframe thead th {\n",
       "        text-align: right;\n",
       "    }\n",
       "</style>\n",
       "<table border=\"1\" class=\"dataframe\">\n",
       "  <thead>\n",
       "    <tr style=\"text-align: right;\">\n",
       "      <th></th>\n",
       "      <th>actual</th>\n",
       "      <th>predicted_prob</th>\n",
       "    </tr>\n",
       "  </thead>\n",
       "  <tbody>\n",
       "    <tr>\n",
       "      <th>0</th>\n",
       "      <td>0</td>\n",
       "      <td>0.582969</td>\n",
       "    </tr>\n",
       "    <tr>\n",
       "      <th>1</th>\n",
       "      <td>0</td>\n",
       "      <td>0.692067</td>\n",
       "    </tr>\n",
       "    <tr>\n",
       "      <th>2</th>\n",
       "      <td>0</td>\n",
       "      <td>0.180140</td>\n",
       "    </tr>\n",
       "    <tr>\n",
       "      <th>3</th>\n",
       "      <td>0</td>\n",
       "      <td>0.387023</td>\n",
       "    </tr>\n",
       "    <tr>\n",
       "      <th>4</th>\n",
       "      <td>1</td>\n",
       "      <td>1.000000</td>\n",
       "    </tr>\n",
       "  </tbody>\n",
       "</table>\n",
       "</div>"
      ],
      "text/plain": [
       "   actual  predicted_prob\n",
       "0       0        0.582969\n",
       "1       0        0.692067\n",
       "2       0        0.180140\n",
       "3       0        0.387023\n",
       "4       1        1.000000"
      ]
     },
     "execution_count": 207,
     "metadata": {
      "tags": []
     },
     "output_type": "execute_result"
    }
   ],
   "source": [
    "y_predict=model.predict(x_test) #np.argmax(model.predict(x_test, batch_size=200, verbose=0),axis=1)\n",
    "print('predict:',y_predict)\n",
    "print('Y test:',Y_test)\n",
    "print('shape of predicted:',y_predict.shape)\n",
    "y_pred_reshaped=y_predict.reshape(1915)\n",
    "print('reshaped:',y_predict.reshape(1915)) # requires reshape\n",
    "print(Y_test.values)\n",
    "# put the actual and predicted on to a dataframe\n",
    "y_pred_df = pd.DataFrame( { 'actual': Y_test.values,\n",
    "                               \"predicted_prob\":y_pred_reshaped } )\n",
    "y_pred_df.to_csv('predicted.csv')\n",
    "y_pred_df.head()"
   ]
  },
  {
   "cell_type": "code",
   "execution_count": 208,
   "metadata": {
    "colab": {
     "base_uri": "https://localhost:8080/",
     "height": 1000
    },
    "colab_type": "code",
    "id": "-hEdapcR0fwg",
    "outputId": "bb142df6-124c-439a-ea08-75fa2f6544a1"
   },
   "outputs": [
    {
     "name": "stdout",
     "output_type": "stream",
     "text": [
      "(1915, 2)\n"
     ]
    },
    {
     "data": {
      "text/html": [
       "<div>\n",
       "<style scoped>\n",
       "    .dataframe tbody tr th:only-of-type {\n",
       "        vertical-align: middle;\n",
       "    }\n",
       "\n",
       "    .dataframe tbody tr th {\n",
       "        vertical-align: top;\n",
       "    }\n",
       "\n",
       "    .dataframe thead th {\n",
       "        text-align: right;\n",
       "    }\n",
       "</style>\n",
       "<table border=\"1\" class=\"dataframe\">\n",
       "  <thead>\n",
       "    <tr style=\"text-align: right;\">\n",
       "      <th></th>\n",
       "      <th>actual</th>\n",
       "      <th>predicted_prob</th>\n",
       "      <th>predicted_threshold_0.5</th>\n",
       "    </tr>\n",
       "  </thead>\n",
       "  <tbody>\n",
       "    <tr>\n",
       "      <th>200</th>\n",
       "      <td>1</td>\n",
       "      <td>0.908644</td>\n",
       "      <td>1</td>\n",
       "    </tr>\n",
       "    <tr>\n",
       "      <th>201</th>\n",
       "      <td>0</td>\n",
       "      <td>0.061665</td>\n",
       "      <td>0</td>\n",
       "    </tr>\n",
       "    <tr>\n",
       "      <th>202</th>\n",
       "      <td>1</td>\n",
       "      <td>0.025823</td>\n",
       "      <td>0</td>\n",
       "    </tr>\n",
       "    <tr>\n",
       "      <th>203</th>\n",
       "      <td>0</td>\n",
       "      <td>0.921145</td>\n",
       "      <td>1</td>\n",
       "    </tr>\n",
       "    <tr>\n",
       "      <th>204</th>\n",
       "      <td>0</td>\n",
       "      <td>0.685911</td>\n",
       "      <td>1</td>\n",
       "    </tr>\n",
       "    <tr>\n",
       "      <th>205</th>\n",
       "      <td>0</td>\n",
       "      <td>0.009956</td>\n",
       "      <td>0</td>\n",
       "    </tr>\n",
       "    <tr>\n",
       "      <th>206</th>\n",
       "      <td>0</td>\n",
       "      <td>0.068959</td>\n",
       "      <td>0</td>\n",
       "    </tr>\n",
       "    <tr>\n",
       "      <th>207</th>\n",
       "      <td>0</td>\n",
       "      <td>0.256912</td>\n",
       "      <td>0</td>\n",
       "    </tr>\n",
       "    <tr>\n",
       "      <th>208</th>\n",
       "      <td>1</td>\n",
       "      <td>0.004689</td>\n",
       "      <td>0</td>\n",
       "    </tr>\n",
       "    <tr>\n",
       "      <th>209</th>\n",
       "      <td>0</td>\n",
       "      <td>0.559029</td>\n",
       "      <td>1</td>\n",
       "    </tr>\n",
       "    <tr>\n",
       "      <th>210</th>\n",
       "      <td>0</td>\n",
       "      <td>0.002577</td>\n",
       "      <td>0</td>\n",
       "    </tr>\n",
       "    <tr>\n",
       "      <th>211</th>\n",
       "      <td>0</td>\n",
       "      <td>0.020988</td>\n",
       "      <td>0</td>\n",
       "    </tr>\n",
       "    <tr>\n",
       "      <th>212</th>\n",
       "      <td>0</td>\n",
       "      <td>0.000085</td>\n",
       "      <td>0</td>\n",
       "    </tr>\n",
       "    <tr>\n",
       "      <th>213</th>\n",
       "      <td>1</td>\n",
       "      <td>0.996236</td>\n",
       "      <td>1</td>\n",
       "    </tr>\n",
       "    <tr>\n",
       "      <th>214</th>\n",
       "      <td>1</td>\n",
       "      <td>0.426200</td>\n",
       "      <td>0</td>\n",
       "    </tr>\n",
       "    <tr>\n",
       "      <th>215</th>\n",
       "      <td>0</td>\n",
       "      <td>0.000915</td>\n",
       "      <td>0</td>\n",
       "    </tr>\n",
       "    <tr>\n",
       "      <th>216</th>\n",
       "      <td>0</td>\n",
       "      <td>0.005114</td>\n",
       "      <td>0</td>\n",
       "    </tr>\n",
       "    <tr>\n",
       "      <th>217</th>\n",
       "      <td>0</td>\n",
       "      <td>0.254190</td>\n",
       "      <td>0</td>\n",
       "    </tr>\n",
       "    <tr>\n",
       "      <th>218</th>\n",
       "      <td>0</td>\n",
       "      <td>0.003666</td>\n",
       "      <td>0</td>\n",
       "    </tr>\n",
       "    <tr>\n",
       "      <th>219</th>\n",
       "      <td>0</td>\n",
       "      <td>0.040139</td>\n",
       "      <td>0</td>\n",
       "    </tr>\n",
       "    <tr>\n",
       "      <th>220</th>\n",
       "      <td>0</td>\n",
       "      <td>0.031433</td>\n",
       "      <td>0</td>\n",
       "    </tr>\n",
       "    <tr>\n",
       "      <th>221</th>\n",
       "      <td>1</td>\n",
       "      <td>0.069999</td>\n",
       "      <td>0</td>\n",
       "    </tr>\n",
       "    <tr>\n",
       "      <th>222</th>\n",
       "      <td>1</td>\n",
       "      <td>0.329410</td>\n",
       "      <td>0</td>\n",
       "    </tr>\n",
       "    <tr>\n",
       "      <th>223</th>\n",
       "      <td>0</td>\n",
       "      <td>0.480008</td>\n",
       "      <td>0</td>\n",
       "    </tr>\n",
       "    <tr>\n",
       "      <th>224</th>\n",
       "      <td>0</td>\n",
       "      <td>0.044337</td>\n",
       "      <td>0</td>\n",
       "    </tr>\n",
       "    <tr>\n",
       "      <th>225</th>\n",
       "      <td>1</td>\n",
       "      <td>0.502175</td>\n",
       "      <td>1</td>\n",
       "    </tr>\n",
       "    <tr>\n",
       "      <th>226</th>\n",
       "      <td>0</td>\n",
       "      <td>0.020786</td>\n",
       "      <td>0</td>\n",
       "    </tr>\n",
       "    <tr>\n",
       "      <th>227</th>\n",
       "      <td>1</td>\n",
       "      <td>0.035213</td>\n",
       "      <td>0</td>\n",
       "    </tr>\n",
       "    <tr>\n",
       "      <th>228</th>\n",
       "      <td>0</td>\n",
       "      <td>0.355168</td>\n",
       "      <td>0</td>\n",
       "    </tr>\n",
       "    <tr>\n",
       "      <th>229</th>\n",
       "      <td>1</td>\n",
       "      <td>1.000000</td>\n",
       "      <td>1</td>\n",
       "    </tr>\n",
       "    <tr>\n",
       "      <th>230</th>\n",
       "      <td>0</td>\n",
       "      <td>0.138280</td>\n",
       "      <td>0</td>\n",
       "    </tr>\n",
       "    <tr>\n",
       "      <th>231</th>\n",
       "      <td>1</td>\n",
       "      <td>0.590243</td>\n",
       "      <td>1</td>\n",
       "    </tr>\n",
       "    <tr>\n",
       "      <th>232</th>\n",
       "      <td>0</td>\n",
       "      <td>0.000157</td>\n",
       "      <td>0</td>\n",
       "    </tr>\n",
       "    <tr>\n",
       "      <th>233</th>\n",
       "      <td>1</td>\n",
       "      <td>0.086474</td>\n",
       "      <td>0</td>\n",
       "    </tr>\n",
       "    <tr>\n",
       "      <th>234</th>\n",
       "      <td>0</td>\n",
       "      <td>0.091073</td>\n",
       "      <td>0</td>\n",
       "    </tr>\n",
       "    <tr>\n",
       "      <th>235</th>\n",
       "      <td>0</td>\n",
       "      <td>0.272931</td>\n",
       "      <td>0</td>\n",
       "    </tr>\n",
       "    <tr>\n",
       "      <th>236</th>\n",
       "      <td>0</td>\n",
       "      <td>0.033916</td>\n",
       "      <td>0</td>\n",
       "    </tr>\n",
       "    <tr>\n",
       "      <th>237</th>\n",
       "      <td>0</td>\n",
       "      <td>0.072043</td>\n",
       "      <td>0</td>\n",
       "    </tr>\n",
       "    <tr>\n",
       "      <th>238</th>\n",
       "      <td>0</td>\n",
       "      <td>0.013943</td>\n",
       "      <td>0</td>\n",
       "    </tr>\n",
       "    <tr>\n",
       "      <th>239</th>\n",
       "      <td>0</td>\n",
       "      <td>0.934019</td>\n",
       "      <td>1</td>\n",
       "    </tr>\n",
       "    <tr>\n",
       "      <th>240</th>\n",
       "      <td>0</td>\n",
       "      <td>0.027821</td>\n",
       "      <td>0</td>\n",
       "    </tr>\n",
       "    <tr>\n",
       "      <th>241</th>\n",
       "      <td>0</td>\n",
       "      <td>0.006749</td>\n",
       "      <td>0</td>\n",
       "    </tr>\n",
       "    <tr>\n",
       "      <th>242</th>\n",
       "      <td>0</td>\n",
       "      <td>0.011688</td>\n",
       "      <td>0</td>\n",
       "    </tr>\n",
       "    <tr>\n",
       "      <th>243</th>\n",
       "      <td>1</td>\n",
       "      <td>0.071447</td>\n",
       "      <td>0</td>\n",
       "    </tr>\n",
       "    <tr>\n",
       "      <th>244</th>\n",
       "      <td>0</td>\n",
       "      <td>0.240333</td>\n",
       "      <td>0</td>\n",
       "    </tr>\n",
       "    <tr>\n",
       "      <th>245</th>\n",
       "      <td>0</td>\n",
       "      <td>0.000017</td>\n",
       "      <td>0</td>\n",
       "    </tr>\n",
       "    <tr>\n",
       "      <th>246</th>\n",
       "      <td>0</td>\n",
       "      <td>0.205617</td>\n",
       "      <td>0</td>\n",
       "    </tr>\n",
       "    <tr>\n",
       "      <th>247</th>\n",
       "      <td>0</td>\n",
       "      <td>0.020785</td>\n",
       "      <td>0</td>\n",
       "    </tr>\n",
       "    <tr>\n",
       "      <th>248</th>\n",
       "      <td>1</td>\n",
       "      <td>0.079564</td>\n",
       "      <td>0</td>\n",
       "    </tr>\n",
       "    <tr>\n",
       "      <th>249</th>\n",
       "      <td>0</td>\n",
       "      <td>0.002070</td>\n",
       "      <td>0</td>\n",
       "    </tr>\n",
       "  </tbody>\n",
       "</table>\n",
       "</div>"
      ],
      "text/plain": [
       "     actual  predicted_prob  predicted_threshold_0.5\n",
       "200       1        0.908644                        1\n",
       "201       0        0.061665                        0\n",
       "202       1        0.025823                        0\n",
       "203       0        0.921145                        1\n",
       "204       0        0.685911                        1\n",
       "205       0        0.009956                        0\n",
       "206       0        0.068959                        0\n",
       "207       0        0.256912                        0\n",
       "208       1        0.004689                        0\n",
       "209       0        0.559029                        1\n",
       "210       0        0.002577                        0\n",
       "211       0        0.020988                        0\n",
       "212       0        0.000085                        0\n",
       "213       1        0.996236                        1\n",
       "214       1        0.426200                        0\n",
       "215       0        0.000915                        0\n",
       "216       0        0.005114                        0\n",
       "217       0        0.254190                        0\n",
       "218       0        0.003666                        0\n",
       "219       0        0.040139                        0\n",
       "220       0        0.031433                        0\n",
       "221       1        0.069999                        0\n",
       "222       1        0.329410                        0\n",
       "223       0        0.480008                        0\n",
       "224       0        0.044337                        0\n",
       "225       1        0.502175                        1\n",
       "226       0        0.020786                        0\n",
       "227       1        0.035213                        0\n",
       "228       0        0.355168                        0\n",
       "229       1        1.000000                        1\n",
       "230       0        0.138280                        0\n",
       "231       1        0.590243                        1\n",
       "232       0        0.000157                        0\n",
       "233       1        0.086474                        0\n",
       "234       0        0.091073                        0\n",
       "235       0        0.272931                        0\n",
       "236       0        0.033916                        0\n",
       "237       0        0.072043                        0\n",
       "238       0        0.013943                        0\n",
       "239       0        0.934019                        1\n",
       "240       0        0.027821                        0\n",
       "241       0        0.006749                        0\n",
       "242       0        0.011688                        0\n",
       "243       1        0.071447                        0\n",
       "244       0        0.240333                        0\n",
       "245       0        0.000017                        0\n",
       "246       0        0.205617                        0\n",
       "247       0        0.020785                        0\n",
       "248       1        0.079564                        0\n",
       "249       0        0.002070                        0"
      ]
     },
     "execution_count": 208,
     "metadata": {
      "tags": []
     },
     "output_type": "execute_result"
    }
   ],
   "source": [
    "print(y_pred_df.shape)\n",
    "# find those equal to or above 0.5 threshold\n",
    "y_pred_df['predicted_threshold_0.5'] = y_pred_df.predicted_prob.map( lambda x: 1 if x >= 0.5 else 0)\n",
    "y_pred_df[200:250]"
   ]
  },
  {
   "cell_type": "code",
   "execution_count": 0,
   "metadata": {
    "colab": {},
    "colab_type": "code",
    "id": "0Kog1mDRwjhl"
   },
   "outputs": [],
   "source": [
    "#### 8. Predict the accuracy score and confusion matrix"
   ]
  },
  {
   "cell_type": "code",
   "execution_count": 209,
   "metadata": {
    "colab": {
     "base_uri": "https://localhost:8080/",
     "height": 68
    },
    "colab_type": "code",
    "id": "P4UGPjVzuxfj",
    "outputId": "c6aff877-5f26-460a-c479-12a977dd177e"
   },
   "outputs": [
    {
     "name": "stdout",
     "output_type": "stream",
     "text": [
      "60/60 - 0s - loss: 0.5917 - accuracy: 0.7948\n",
      "accuracy: 0.795\n",
      "loss:0.592\n"
     ]
    }
   ],
   "source": [
    "loss,acc=model.evaluate(x_test,Y_test,verbose=2)\n",
    "print('accuracy: %.3f'% acc)\n",
    "print('loss:%.3f'%loss)"
   ]
  },
  {
   "cell_type": "code",
   "execution_count": 210,
   "metadata": {
    "colab": {
     "base_uri": "https://localhost:8080/",
     "height": 51
    },
    "colab_type": "code",
    "id": "hFaZeb1yS6W0",
    "outputId": "07e78dbc-f35c-4ddf-8fad-1fcb4df16309"
   },
   "outputs": [
    {
     "name": "stdout",
     "output_type": "stream",
     "text": [
      "Recall_score: 0.53125\n",
      "Precision_score: 0.6028368794326241\n"
     ]
    }
   ],
   "source": [
    "print('Recall_score: ' + str(recall_score(y_pred_df['actual'], y_pred_df['predicted_threshold_0.5'])))\n",
    "print('Precision_score: ' + str(precision_score(y_pred_df['actual'], y_pred_df['predicted_threshold_0.5'])))"
   ]
  },
  {
   "cell_type": "code",
   "execution_count": 0,
   "metadata": {
    "colab": {},
    "colab_type": "code",
    "id": "nzBMLNXMvbuI"
   },
   "outputs": [],
   "source": []
  },
  {
   "cell_type": "code",
   "execution_count": 211,
   "metadata": {
    "colab": {
     "base_uri": "https://localhost:8080/",
     "height": 51
    },
    "colab_type": "code",
    "id": "CcelIQqfv5wx",
    "outputId": "fdf7ace5-8ce7-445c-8deb-28b6ca3a97db"
   },
   "outputs": [
    {
     "name": "stdout",
     "output_type": "stream",
     "text": [
      "[[1267  168]\n",
      " [ 225  255]]\n"
     ]
    }
   ],
   "source": [
    "# y_pred=[]\n",
    "# for val in y_predict:\n",
    "#   y_pred.append(np.argmax(val))\n",
    "cm=metrics.confusion_matrix(y_pred_df['actual'],y_pred_df['predicted_threshold_0.5'])\n",
    "print(cm)"
   ]
  },
  {
   "cell_type": "code",
   "execution_count": 0,
   "metadata": {
    "colab": {},
    "colab_type": "code",
    "id": "cKoMswTj7ka6"
   },
   "outputs": [],
   "source": [
    "def draw_cm( actual, predicted ):\n",
    "    cm = metrics.confusion_matrix( actual, predicted, [1,0] )\n",
    "    sns.heatmap(cm, annot=True,  fmt='.2f', xticklabels = [\"Exited\", \"Not Exited\"] , yticklabels = [\"Exited\", \"Not Exited\"] )\n",
    "    plt.ylabel('True label')\n",
    "    plt.xlabel('Predicted label')\n",
    "    plt.show()"
   ]
  },
  {
   "cell_type": "code",
   "execution_count": 213,
   "metadata": {
    "colab": {
     "base_uri": "https://localhost:8080/",
     "height": 279
    },
    "colab_type": "code",
    "id": "X1yaflz0ut8v",
    "outputId": "8a6e0ca4-694c-4aca-96ab-70c7b8bb4e4f"
   },
   "outputs": [
    {
     "data": {
      "image/png": "[encoded data removed]",
      "text/plain": [
       "<Figure size 432x288 with 2 Axes>"
      ]
     },
     "metadata": {
      "needs_background": "light",
      "tags": []
     },
     "output_type": "display_data"
    }
   ],
   "source": [
    "draw_cm(y_pred_df['actual'],y_pred_df['predicted_threshold_0.5'])"
   ]
  }
 ],
 "metadata": {
  "colab": {
   "collapsed_sections": [],
   "name": "NN Bank Churn Prediction - Balamurali Chandran.ipynb",
   "provenance": [],
   "toc_visible": true
  },
  "kernelspec": {
   "display_name": "Python 3",
   "language": "python",
   "name": "python3"
  },
  "language_info": {
   "codemirror_mode": {
    "name": "ipython",
    "version": 3
   },
   "file_extension": ".py",
   "mimetype": "text/x-python",
   "name": "python",
   "nbconvert_exporter": "python",
   "pygments_lexer": "ipython3",
   "version": "3.7.4"
  }
 },
 "nbformat": 4,
 "nbformat_minor": 1
}
